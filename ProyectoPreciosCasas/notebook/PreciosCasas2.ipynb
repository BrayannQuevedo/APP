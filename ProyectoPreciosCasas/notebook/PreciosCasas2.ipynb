{
 "cells": [
  {
   "cell_type": "markdown",
   "id": "34aeb550",
   "metadata": {},
   "source": [
    "# Proyecto precios casas (continuación)\n",
    "## Segunda parte"
   ]
  },
  {
   "cell_type": "code",
   "execution_count": 105,
   "id": "dc58c946",
   "metadata": {
    "ExecuteTime": {
     "end_time": "2022-04-30T14:33:58.475017Z",
     "start_time": "2022-04-30T14:33:54.913432Z"
    }
   },
   "outputs": [],
   "source": [
    "import pandas as pd\n",
    "import seaborn as sns\n",
    "from plotly import express as px\n",
    "from matplotlib import pyplot as plt\n",
    "from matplotlib import gridspec \n",
    "from pandas_profiling import ProfileReport\n",
    "# import geocoder\n",
    "import time\n",
    "\n",
    "pd.set_option('display.float_format', lambda x: '%.2f' % x )"
   ]
  },
  {
   "cell_type": "code",
   "execution_count": null,
   "id": "7be7d5b8",
   "metadata": {},
   "outputs": [],
   "source": [
    "## ETL \n",
    "Extract\n",
    "Transform\n",
    "Load"
   ]
  },
  {
   "cell_type": "markdown",
   "id": "1886640d",
   "metadata": {
    "ExecuteTime": {
     "end_time": "2022-04-30T13:58:45.647120Z",
     "start_time": "2022-04-30T13:58:45.629115Z"
    }
   },
   "source": [
    "### Extraction"
   ]
  },
  {
   "cell_type": "code",
   "execution_count": 64,
   "id": "f79597a5",
   "metadata": {
    "ExecuteTime": {
     "end_time": "2022-04-30T14:13:05.890721Z",
     "start_time": "2022-04-30T14:13:05.765727Z"
    }
   },
   "outputs": [],
   "source": [
    "data = pd.read_csv('../data/kc_house_data.csv')"
   ]
  },
  {
   "cell_type": "code",
   "execution_count": 8,
   "id": "039ef03e",
   "metadata": {
    "ExecuteTime": {
     "end_time": "2022-04-30T13:58:23.915646Z",
     "start_time": "2022-04-30T13:58:23.894629Z"
    }
   },
   "outputs": [
    {
     "name": "stdout",
     "output_type": "stream",
     "text": [
      "La base de datos tiene 21613 filas y 21 columnas\n"
     ]
    }
   ],
   "source": [
    "print('La base de datos tiene {} filas y {} columnas'.format(data.shape[0],data.shape[1]))"
   ]
  },
  {
   "cell_type": "markdown",
   "id": "ec159c3c",
   "metadata": {
    "ExecuteTime": {
     "end_time": "2022-04-30T13:59:05.953889Z",
     "start_time": "2022-04-30T13:59:05.946889Z"
    }
   },
   "source": [
    "### Transformation"
   ]
  },
  {
   "cell_type": "code",
   "execution_count": 13,
   "id": "1645d7f3",
   "metadata": {
    "ExecuteTime": {
     "end_time": "2022-04-30T13:59:22.167272Z",
     "start_time": "2022-04-30T13:59:22.143271Z"
    }
   },
   "outputs": [
    {
     "data": {
      "text/plain": [
       "id                 int64\n",
       "date              object\n",
       "price            float64\n",
       "bedrooms           int64\n",
       "bathrooms        float64\n",
       "sqft_living        int64\n",
       "sqft_lot           int64\n",
       "floors           float64\n",
       "waterfront         int64\n",
       "view               int64\n",
       "condition          int64\n",
       "grade              int64\n",
       "sqft_above         int64\n",
       "sqft_basement      int64\n",
       "yr_built           int64\n",
       "yr_renovated       int64\n",
       "zipcode            int64\n",
       "lat              float64\n",
       "long             float64\n",
       "sqft_living15      int64\n",
       "sqft_lot15         int64\n",
       "dtype: object"
      ]
     },
     "execution_count": 13,
     "metadata": {},
     "output_type": "execute_result"
    }
   ],
   "source": [
    "data.dtypes"
   ]
  },
  {
   "cell_type": "code",
   "execution_count": 65,
   "id": "f468165b",
   "metadata": {
    "ExecuteTime": {
     "end_time": "2022-04-30T14:13:08.297720Z",
     "start_time": "2022-04-30T14:13:07.992721Z"
    }
   },
   "outputs": [],
   "source": [
    "data['date'] = pd.to_datetime(data['date'], format = '%Y-%m-%d')\n",
    "data['yr_built']= pd.to_datetime(data['yr_built'], format = '%Y').dt.year\n",
    "data['yr_renovated'] = data['yr_renovated'].apply(lambda x: pd.to_datetime(x, format ='%Y') if x >0 else x )"
   ]
  },
  {
   "cell_type": "code",
   "execution_count": 92,
   "id": "0902de8e",
   "metadata": {
    "ExecuteTime": {
     "end_time": "2022-04-30T14:22:22.554847Z",
     "start_time": "2022-04-30T14:22:22.496828Z"
    }
   },
   "outputs": [],
   "source": [
    "data['id'] = data['id'].astype(str)\n",
    "data['zipcode'] = data['zipcode'].astype(str)"
   ]
  },
  {
   "cell_type": "code",
   "execution_count": 93,
   "id": "ab4f1b76",
   "metadata": {
    "ExecuteTime": {
     "end_time": "2022-04-30T14:22:23.423666Z",
     "start_time": "2022-04-30T14:22:23.411668Z"
    }
   },
   "outputs": [
    {
     "data": {
      "text/plain": [
       "id                       object\n",
       "date             datetime64[ns]\n",
       "price                   float64\n",
       "bedrooms                  int64\n",
       "bathrooms               float64\n",
       "sqft_living               int64\n",
       "sqft_lot                  int64\n",
       "floors                  float64\n",
       "waterfront                int64\n",
       "view                      int64\n",
       "condition                 int64\n",
       "grade                     int64\n",
       "sqft_above                int64\n",
       "sqft_basement             int64\n",
       "yr_built                  int64\n",
       "yr_renovated             object\n",
       "zipcode                  object\n",
       "lat                     float64\n",
       "long                    float64\n",
       "sqft_living15             int64\n",
       "sqft_lot15                int64\n",
       "dtype: object"
      ]
     },
     "execution_count": 93,
     "metadata": {},
     "output_type": "execute_result"
    }
   ],
   "source": [
    "data.dtypes"
   ]
  },
  {
   "cell_type": "markdown",
   "id": "cc7947b3",
   "metadata": {
    "ExecuteTime": {
     "end_time": "2022-04-30T14:23:21.217969Z",
     "start_time": "2022-04-30T14:23:21.212971Z"
    }
   },
   "source": [
    "### Creando nuevas columnas"
   ]
  },
  {
   "cell_type": "markdown",
   "id": "d2636028",
   "metadata": {},
   "source": [
    "#### House_age"
   ]
  },
  {
   "cell_type": "code",
   "execution_count": 95,
   "id": "04c2ae03",
   "metadata": {
    "ExecuteTime": {
     "end_time": "2022-04-30T14:23:49.945706Z",
     "start_time": "2022-04-30T14:23:49.916702Z"
    }
   },
   "outputs": [],
   "source": [
    "data.loc[data['yr_built']>1990,'house_age'] = 'new_house' \n",
    "data.loc[data['yr_built']<1990,'house_age'] = 'old_house'"
   ]
  },
  {
   "cell_type": "markdown",
   "id": "8f00824e",
   "metadata": {},
   "source": [
    "#### Dormitory_type"
   ]
  },
  {
   "cell_type": "code",
   "execution_count": 96,
   "id": "a8bb4651",
   "metadata": {
    "ExecuteTime": {
     "end_time": "2022-04-30T14:25:38.510869Z",
     "start_time": "2022-04-30T14:25:38.449824Z"
    }
   },
   "outputs": [],
   "source": [
    "data.loc[data['bedrooms']<=1, 'dormitory_type'] = 'studio'\n",
    "data.loc[data['bedrooms']==2, 'dormitory_type'] = 'apartment'\n",
    "data.loc[data['bedrooms']>2, 'dormitory_type'] = 'house'"
   ]
  },
  {
   "cell_type": "markdown",
   "id": "71fbc72c",
   "metadata": {},
   "source": [
    "#### Condition_type"
   ]
  },
  {
   "cell_type": "code",
   "execution_count": 97,
   "id": "1f4a0ac9",
   "metadata": {
    "ExecuteTime": {
     "end_time": "2022-04-30T14:28:23.244977Z",
     "start_time": "2022-04-30T14:28:23.210975Z"
    }
   },
   "outputs": [],
   "source": [
    "data.loc[data['condition']<=2, 'condition_type'] = 'bad'\n",
    "data.loc[data['condition'].isin([3,4]), 'condition_type'] = 'regular'\n",
    "data.loc[data['condition']== 5, 'condition_type'] = 'good'"
   ]
  },
  {
   "cell_type": "markdown",
   "id": "85c92d2d",
   "metadata": {},
   "source": [
    "#### Price_tier"
   ]
  },
  {
   "cell_type": "code",
   "execution_count": 98,
   "id": "aea57c9b",
   "metadata": {
    "ExecuteTime": {
     "end_time": "2022-04-30T14:29:43.037310Z",
     "start_time": "2022-04-30T14:29:43.013313Z"
    }
   },
   "outputs": [],
   "source": [
    "\n",
    "data['price_tier'] = data['price'].apply(lambda x: 'tier 1' if x <= 321950 else\n",
    "                                                      'tier 2' if (x > 321950) & (x <= 450000) else\n",
    "                                                      'tier 3' if (x > 450000) & (x <= 645000) else\n",
    "                                                      'tier 4')"
   ]
  },
  {
   "cell_type": "markdown",
   "id": "c41d8980",
   "metadata": {
    "ExecuteTime": {
     "end_time": "2022-04-30T14:31:25.050244Z",
     "start_time": "2022-04-30T14:31:25.041276Z"
    }
   },
   "source": [
    "#### Address, neighbourhood and city (API)"
   ]
  },
  {
   "cell_type": "code",
   "execution_count": null,
   "id": "aec1c801",
   "metadata": {},
   "outputs": [],
   "source": [
    "# for i in range(df_test.shape[0]):\n",
    "# #     geolocator = Nominatim(user_agent='ErnestoPerez'+str(i))\n",
    "# #     df_test.loc[i,'lat'], df_test.loc[i,'long']\n",
    "#     geoloc = geocoder.osm([df_test.loc[i,'lat'], df_test.loc[i,'long']], method='reverse')\n",
    "#     try:\n",
    "#         df_test.loc[i,'house_number'] = geoloc.raw['address']['house_number']\n",
    "#     except:\n",
    "#         None\n",
    "#     try:\n",
    "#         df_test.loc[i,'road'] = geoloc.raw['address']['road']\n",
    "#     except:\n",
    "#         None\n",
    "#     try:\n",
    "#         df_test.loc[i,'neighbourhood'] = geoloc.raw['address']['neighbourhood']\n",
    "#     except:\n",
    "#         None\n",
    "#     try:\n",
    "#          df_test.loc[i,'city'] =geoloc.raw['address']['city']\n",
    "#     except:\n",
    "#         None\n",
    "#     time.sleep(2)\n",
    "#     if i % 150 == 0: \n",
    "#         print('Voy en la {}-ésima iteración'.format(i))"
   ]
  },
  {
   "cell_type": "markdown",
   "id": "4984cd9e",
   "metadata": {},
   "source": [
    "# Exploratory Descriptive Analysis (EDA)"
   ]
  },
  {
   "cell_type": "code",
   "execution_count": null,
   "id": "bb3d16da",
   "metadata": {
    "ExecuteTime": {
     "start_time": "2022-04-30T14:34:30.116Z"
    }
   },
   "outputs": [
    {
     "data": {
      "application/vnd.jupyter.widget-view+json": {
       "model_id": "0a9eb488e1fe4a528123377abe32eec7",
       "version_major": 2,
       "version_minor": 0
      },
      "text/plain": [
       "Summarize dataset:   0%|          | 0/5 [00:00<?, ?it/s]"
      ]
     },
     "metadata": {},
     "output_type": "display_data"
    }
   ],
   "source": [
    "prof = ProfileReport(data)\n",
    "prof.to_file(output_file='data-EDA.html')"
   ]
  }
 ],
 "metadata": {
  "kernelspec": {
   "display_name": "Python 3 (ipykernel)",
   "language": "python",
   "name": "python3"
  },
  "language_info": {
   "codemirror_mode": {
    "name": "ipython",
    "version": 3
   },
   "file_extension": ".py",
   "mimetype": "text/x-python",
   "name": "python",
   "nbconvert_exporter": "python",
   "pygments_lexer": "ipython3",
   "version": "3.9.7"
  },
  "toc": {
   "base_numbering": 1,
   "nav_menu": {},
   "number_sections": true,
   "sideBar": true,
   "skip_h1_title": false,
   "title_cell": "Table of Contents",
   "title_sidebar": "Contents",
   "toc_cell": false,
   "toc_position": {},
   "toc_section_display": true,
   "toc_window_display": false
  },
  "varInspector": {
   "cols": {
    "lenName": 16,
    "lenType": 16,
    "lenVar": 40
   },
   "kernels_config": {
    "python": {
     "delete_cmd_postfix": "",
     "delete_cmd_prefix": "del ",
     "library": "var_list.py",
     "varRefreshCmd": "print(var_dic_list())"
    },
    "r": {
     "delete_cmd_postfix": ") ",
     "delete_cmd_prefix": "rm(",
     "library": "var_list.r",
     "varRefreshCmd": "cat(var_dic_list()) "
    }
   },
   "types_to_exclude": [
    "module",
    "function",
    "builtin_function_or_method",
    "instance",
    "_Feature"
   ],
   "window_display": false
  }
 },
 "nbformat": 4,
 "nbformat_minor": 5
}
