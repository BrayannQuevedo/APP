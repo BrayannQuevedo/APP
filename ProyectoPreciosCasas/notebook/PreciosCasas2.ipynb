{
 "cells": [
  {
   "cell_type": "markdown",
   "id": "5a7d316f",
   "metadata": {},
   "source": [
    "# Proyecto precios casas (continuación)\n",
    "## Segunda parte"
   ]
  },
  {
   "cell_type": "code",
   "execution_count": 105,
   "id": "8d49915c",
   "metadata": {
    "ExecuteTime": {
     "end_time": "2022-04-30T14:33:58.475017Z",
     "start_time": "2022-04-30T14:33:54.913432Z"
    }
   },
   "outputs": [],
   "source": [
    "import pandas as pd\n",
    "import seaborn as sns\n",
    "from plotly import express as px\n",
    "from matplotlib import pyplot as plt\n",
    "from matplotlib import gridspec \n",
    "from pandas_profiling import ProfileReport\n",
    "# import geocoder\n",
    "import time\n",
    "\n",
    "pd.set_option('display.float_format', lambda x: '%.2f' % x )"
   ]
  },
  {
   "cell_type": "code",
   "execution_count": null,
   "id": "bab4e781",
   "metadata": {},
   "outputs": [],
   "source": [
    "## ETL \n",
    "Extract\n",
    "Transform\n",
    "Load"
   ]
  },
  {
   "cell_type": "markdown",
   "id": "e68eddfa",
   "metadata": {
    "ExecuteTime": {
     "end_time": "2022-04-30T13:58:45.647120Z",
     "start_time": "2022-04-30T13:58:45.629115Z"
    }
   },
   "source": [
    "### Extraction"
   ]
  },
  {
   "cell_type": "code",
   "execution_count": 64,
   "id": "feb98d8e",
   "metadata": {
    "ExecuteTime": {
     "end_time": "2022-04-30T14:13:05.890721Z",
     "start_time": "2022-04-30T14:13:05.765727Z"
    }
   },
   "outputs": [],
   "source": [
    "data = pd.read_csv('../data/kc_house_data.csv')"
   ]
  },
  {
   "cell_type": "code",
   "execution_count": 8,
   "id": "835cc0e2",
   "metadata": {
    "ExecuteTime": {
     "end_time": "2022-04-30T13:58:23.915646Z",
     "start_time": "2022-04-30T13:58:23.894629Z"
    }
   },
   "outputs": [
    {
     "name": "stdout",
     "output_type": "stream",
     "text": [
      "La base de datos tiene 21613 filas y 21 columnas\n"
     ]
    }
   ],
   "source": [
    "print('La base de datos tiene {} filas y {} columnas'.format(data.shape[0],data.shape[1]))"
   ]
  },
  {
   "cell_type": "markdown",
   "id": "f8f79d8a",
   "metadata": {
    "ExecuteTime": {
     "end_time": "2022-04-30T13:59:05.953889Z",
     "start_time": "2022-04-30T13:59:05.946889Z"
    }
   },
   "source": [
    "### Transformation"
   ]
  },
  {
   "cell_type": "code",
   "execution_count": 13,
   "id": "80986725",
   "metadata": {
    "ExecuteTime": {
     "end_time": "2022-04-30T13:59:22.167272Z",
     "start_time": "2022-04-30T13:59:22.143271Z"
    }
   },
   "outputs": [
    {
     "data": {
      "text/plain": [
       "id                 int64\n",
       "date              object\n",
       "price            float64\n",
       "bedrooms           int64\n",
       "bathrooms        float64\n",
       "sqft_living        int64\n",
       "sqft_lot           int64\n",
       "floors           float64\n",
       "waterfront         int64\n",
       "view               int64\n",
       "condition          int64\n",
       "grade              int64\n",
       "sqft_above         int64\n",
       "sqft_basement      int64\n",
       "yr_built           int64\n",
       "yr_renovated       int64\n",
       "zipcode            int64\n",
       "lat              float64\n",
       "long             float64\n",
       "sqft_living15      int64\n",
       "sqft_lot15         int64\n",
       "dtype: object"
      ]
     },
     "execution_count": 13,
     "metadata": {},
     "output_type": "execute_result"
    }
   ],
   "source": [
    "data.dtypes"
   ]
  },
  {
   "cell_type": "code",
   "execution_count": 65,
   "id": "c1baf71f",
   "metadata": {
    "ExecuteTime": {
     "end_time": "2022-04-30T14:13:08.297720Z",
     "start_time": "2022-04-30T14:13:07.992721Z"
    }
   },
   "outputs": [],
   "source": [
    "data['date'] = pd.to_datetime(data['date'], format = '%Y-%m-%d')\n",
    "data['yr_built']= pd.to_datetime(data['yr_built'], format = '%Y').dt.year\n",
    "data['yr_renovated'] = data['yr_renovated'].apply(lambda x: pd.to_datetime(x, format ='%Y') if x >0 else x )"
   ]
  },
  {
   "cell_type": "code",
   "execution_count": 92,
   "id": "21f0c105",
   "metadata": {
    "ExecuteTime": {
     "end_time": "2022-04-30T14:22:22.554847Z",
     "start_time": "2022-04-30T14:22:22.496828Z"
    }
   },
   "outputs": [],
   "source": [
    "data['id'] = data['id'].astype(str)\n",
    "data['zipcode'] = data['zipcode'].astype(str)"
   ]
  },
  {
   "cell_type": "code",
   "execution_count": 93,
   "id": "d4cbb314",
   "metadata": {
    "ExecuteTime": {
     "end_time": "2022-04-30T14:22:23.423666Z",
     "start_time": "2022-04-30T14:22:23.411668Z"
    }
   },
   "outputs": [
    {
     "data": {
      "text/plain": [
       "id                       object\n",
       "date             datetime64[ns]\n",
       "price                   float64\n",
       "bedrooms                  int64\n",
       "bathrooms               float64\n",
       "sqft_living               int64\n",
       "sqft_lot                  int64\n",
       "floors                  float64\n",
       "waterfront                int64\n",
       "view                      int64\n",
       "condition                 int64\n",
       "grade                     int64\n",
       "sqft_above                int64\n",
       "sqft_basement             int64\n",
       "yr_built                  int64\n",
       "yr_renovated             object\n",
       "zipcode                  object\n",
       "lat                     float64\n",
       "long                    float64\n",
       "sqft_living15             int64\n",
       "sqft_lot15                int64\n",
       "dtype: object"
      ]
     },
     "execution_count": 93,
     "metadata": {},
     "output_type": "execute_result"
    }
   ],
   "source": [
    "data.dtypes"
   ]
  },
  {
   "cell_type": "markdown",
   "id": "71eb2847",
   "metadata": {
    "ExecuteTime": {
     "end_time": "2022-04-30T14:23:21.217969Z",
     "start_time": "2022-04-30T14:23:21.212971Z"
    }
   },
   "source": [
    "### Creando nuevas columnas"
   ]
  },
  {
   "cell_type": "markdown",
   "id": "17a7be26",
   "metadata": {},
   "source": [
    "#### House_age"
   ]
  },
  {
   "cell_type": "code",
   "execution_count": 95,
   "id": "9dd3b4df",
   "metadata": {
    "ExecuteTime": {
     "end_time": "2022-04-30T14:23:49.945706Z",
     "start_time": "2022-04-30T14:23:49.916702Z"
    }
   },
   "outputs": [],
   "source": [
    "data.loc[data['yr_built']=>1990,'house_age'] = 'new_house' \n",
    "data.loc[data['yr_built']<1990,'house_age'] = 'old_house'"
   ]
  },
  {
   "cell_type": "markdown",
   "id": "c92441c4",
   "metadata": {},
   "source": [
    "#### Dormitory_type"
   ]
  },
  {
   "cell_type": "code",
   "execution_count": 96,
   "id": "e4017c66",
   "metadata": {
    "ExecuteTime": {
     "end_time": "2022-04-30T14:25:38.510869Z",
     "start_time": "2022-04-30T14:25:38.449824Z"
    }
   },
   "outputs": [],
   "source": [
    "data.loc[data['bedrooms']<=1, 'dormitory_type'] = 'studio'\n",
    "data.loc[data['bedrooms']==2, 'dormitory_type'] = 'apartment'\n",
    "data.loc[data['bedrooms']>2, 'dormitory_type'] = 'house'"
   ]
  },
  {
   "cell_type": "markdown",
   "id": "6966afca",
   "metadata": {},
   "source": [
    "#### Condition_type"
   ]
  },
  {
   "cell_type": "code",
   "execution_count": 97,
   "id": "fca18d68",
   "metadata": {
    "ExecuteTime": {
     "end_time": "2022-04-30T14:28:23.244977Z",
     "start_time": "2022-04-30T14:28:23.210975Z"
    }
   },
   "outputs": [],
   "source": [
    "data.loc[data['condition']<=2, 'condition_type'] = 'bad'\n",
    "data.loc[data['condition'].isin([3,4]), 'condition_type'] = 'regular'\n",
    "data.loc[data['condition']== 5, 'condition_type'] = 'good'"
   ]
  },
  {
   "cell_type": "markdown",
   "id": "78d47ba1",
   "metadata": {},
   "source": [
    "#### Price_tier"
   ]
  },
  {
   "cell_type": "code",
   "execution_count": 98,
   "id": "8734069b",
   "metadata": {
    "ExecuteTime": {
     "end_time": "2022-04-30T14:29:43.037310Z",
     "start_time": "2022-04-30T14:29:43.013313Z"
    }
   },
   "outputs": [],
   "source": [
    "\n",
    "data['price_tier'] = data['price'].apply(lambda x: 'tier 1' if x <= 321950 else\n",
    "                                                      'tier 2' if (x > 321950) & (x <= 450000) else\n",
    "                                                      'tier 3' if (x > 450000) & (x <= 645000) else\n",
    "                                                      'tier 4')"
   ]
  },
  {
   "cell_type": "markdown",
   "id": "a2f81dc0",
   "metadata": {
    "ExecuteTime": {
     "end_time": "2022-04-30T14:31:25.050244Z",
     "start_time": "2022-04-30T14:31:25.041276Z"
    }
   },
   "source": [
    "#### Address, neighbourhood and city (API)"
   ]
  },
  {
   "cell_type": "code",
   "execution_count": null,
   "id": "ccd07b8b",
   "metadata": {},
   "outputs": [],
   "source": [
    "# for i in range(df_test.shape[0]):\n",
    "# #     geolocator = Nominatim(user_agent='ErnestoPerez'+str(i))\n",
    "# #     df_test.loc[i,'lat'], df_test.loc[i,'long']\n",
    "#     geoloc = geocoder.osm([df_test.loc[i,'lat'], df_test.loc[i,'long']], method='reverse')\n",
    "#     try:\n",
    "#         df_test.loc[i,'house_number'] = geoloc.raw['address']['house_number']\n",
    "#     except:\n",
    "#         None\n",
    "#     try:\n",
    "#         df_test.loc[i,'road'] = geoloc.raw['address']['road']\n",
    "#     except:\n",
    "#         None\n",
    "#     try:\n",
    "#         df_test.loc[i,'neighbourhood'] = geoloc.raw['address']['neighbourhood']\n",
    "#     except:\n",
    "#         None\n",
    "#     try:\n",
    "#          df_test.loc[i,'city'] =geoloc.raw['address']['city']\n",
    "#     except:\n",
    "#         None\n",
    "#     time.sleep(2)\n",
    "#     if i % 150 == 0: \n",
    "#         print('Voy en la {}-ésima iteración'.format(i))"
   ]
  },
  {
   "cell_type": "markdown",
   "id": "89ddd29c",
   "metadata": {},
   "source": [
    "# Exploratory Descriptive Analysis (EDA)"
   ]
  },
  {
   "cell_type": "code",
   "execution_count": 108,
   "id": "de6598c2",
   "metadata": {
    "ExecuteTime": {
     "end_time": "2022-04-30T14:51:19.348924Z",
     "start_time": "2022-04-30T14:51:19.252924Z"
    },
    "scrolled": true
   },
   "outputs": [
    {
     "data": {
      "text/html": [
       "<div>\n",
       "<style scoped>\n",
       "    .dataframe tbody tr th:only-of-type {\n",
       "        vertical-align: middle;\n",
       "    }\n",
       "\n",
       "    .dataframe tbody tr th {\n",
       "        vertical-align: top;\n",
       "    }\n",
       "\n",
       "    .dataframe thead th {\n",
       "        text-align: right;\n",
       "    }\n",
       "</style>\n",
       "<table border=\"1\" class=\"dataframe\">\n",
       "  <thead>\n",
       "    <tr style=\"text-align: right;\">\n",
       "      <th></th>\n",
       "      <th>id</th>\n",
       "      <th>date</th>\n",
       "      <th>price</th>\n",
       "      <th>bedrooms</th>\n",
       "      <th>bathrooms</th>\n",
       "      <th>sqft_living</th>\n",
       "      <th>sqft_lot</th>\n",
       "      <th>floors</th>\n",
       "      <th>waterfront</th>\n",
       "      <th>view</th>\n",
       "      <th>...</th>\n",
       "      <th>yr_renovated</th>\n",
       "      <th>zipcode</th>\n",
       "      <th>lat</th>\n",
       "      <th>long</th>\n",
       "      <th>sqft_living15</th>\n",
       "      <th>sqft_lot15</th>\n",
       "      <th>house_age</th>\n",
       "      <th>dormitory_type</th>\n",
       "      <th>condition_type</th>\n",
       "      <th>price_tier</th>\n",
       "    </tr>\n",
       "  </thead>\n",
       "  <tbody>\n",
       "    <tr>\n",
       "      <th>0</th>\n",
       "      <td>7129300520</td>\n",
       "      <td>2014-10-13</td>\n",
       "      <td>221900.00</td>\n",
       "      <td>3</td>\n",
       "      <td>1.00</td>\n",
       "      <td>1180</td>\n",
       "      <td>5650</td>\n",
       "      <td>1.00</td>\n",
       "      <td>0</td>\n",
       "      <td>0</td>\n",
       "      <td>...</td>\n",
       "      <td>0</td>\n",
       "      <td>98178</td>\n",
       "      <td>47.51</td>\n",
       "      <td>-122.26</td>\n",
       "      <td>1340</td>\n",
       "      <td>5650</td>\n",
       "      <td>old_house</td>\n",
       "      <td>house</td>\n",
       "      <td>regular</td>\n",
       "      <td>tier 1</td>\n",
       "    </tr>\n",
       "    <tr>\n",
       "      <th>1</th>\n",
       "      <td>6414100192</td>\n",
       "      <td>2014-12-09</td>\n",
       "      <td>538000.00</td>\n",
       "      <td>3</td>\n",
       "      <td>2.25</td>\n",
       "      <td>2570</td>\n",
       "      <td>7242</td>\n",
       "      <td>2.00</td>\n",
       "      <td>0</td>\n",
       "      <td>0</td>\n",
       "      <td>...</td>\n",
       "      <td>1991-01-01 00:00:00</td>\n",
       "      <td>98125</td>\n",
       "      <td>47.72</td>\n",
       "      <td>-122.32</td>\n",
       "      <td>1690</td>\n",
       "      <td>7639</td>\n",
       "      <td>old_house</td>\n",
       "      <td>house</td>\n",
       "      <td>regular</td>\n",
       "      <td>tier 3</td>\n",
       "    </tr>\n",
       "    <tr>\n",
       "      <th>2</th>\n",
       "      <td>5631500400</td>\n",
       "      <td>2015-02-25</td>\n",
       "      <td>180000.00</td>\n",
       "      <td>2</td>\n",
       "      <td>1.00</td>\n",
       "      <td>770</td>\n",
       "      <td>10000</td>\n",
       "      <td>1.00</td>\n",
       "      <td>0</td>\n",
       "      <td>0</td>\n",
       "      <td>...</td>\n",
       "      <td>0</td>\n",
       "      <td>98028</td>\n",
       "      <td>47.74</td>\n",
       "      <td>-122.23</td>\n",
       "      <td>2720</td>\n",
       "      <td>8062</td>\n",
       "      <td>old_house</td>\n",
       "      <td>apartment</td>\n",
       "      <td>regular</td>\n",
       "      <td>tier 1</td>\n",
       "    </tr>\n",
       "    <tr>\n",
       "      <th>3</th>\n",
       "      <td>2487200875</td>\n",
       "      <td>2014-12-09</td>\n",
       "      <td>604000.00</td>\n",
       "      <td>4</td>\n",
       "      <td>3.00</td>\n",
       "      <td>1960</td>\n",
       "      <td>5000</td>\n",
       "      <td>1.00</td>\n",
       "      <td>0</td>\n",
       "      <td>0</td>\n",
       "      <td>...</td>\n",
       "      <td>0</td>\n",
       "      <td>98136</td>\n",
       "      <td>47.52</td>\n",
       "      <td>-122.39</td>\n",
       "      <td>1360</td>\n",
       "      <td>5000</td>\n",
       "      <td>old_house</td>\n",
       "      <td>house</td>\n",
       "      <td>good</td>\n",
       "      <td>tier 3</td>\n",
       "    </tr>\n",
       "    <tr>\n",
       "      <th>4</th>\n",
       "      <td>1954400510</td>\n",
       "      <td>2015-02-18</td>\n",
       "      <td>510000.00</td>\n",
       "      <td>3</td>\n",
       "      <td>2.00</td>\n",
       "      <td>1680</td>\n",
       "      <td>8080</td>\n",
       "      <td>1.00</td>\n",
       "      <td>0</td>\n",
       "      <td>0</td>\n",
       "      <td>...</td>\n",
       "      <td>0</td>\n",
       "      <td>98074</td>\n",
       "      <td>47.62</td>\n",
       "      <td>-122.05</td>\n",
       "      <td>1800</td>\n",
       "      <td>7503</td>\n",
       "      <td>old_house</td>\n",
       "      <td>house</td>\n",
       "      <td>regular</td>\n",
       "      <td>tier 3</td>\n",
       "    </tr>\n",
       "    <tr>\n",
       "      <th>...</th>\n",
       "      <td>...</td>\n",
       "      <td>...</td>\n",
       "      <td>...</td>\n",
       "      <td>...</td>\n",
       "      <td>...</td>\n",
       "      <td>...</td>\n",
       "      <td>...</td>\n",
       "      <td>...</td>\n",
       "      <td>...</td>\n",
       "      <td>...</td>\n",
       "      <td>...</td>\n",
       "      <td>...</td>\n",
       "      <td>...</td>\n",
       "      <td>...</td>\n",
       "      <td>...</td>\n",
       "      <td>...</td>\n",
       "      <td>...</td>\n",
       "      <td>...</td>\n",
       "      <td>...</td>\n",
       "      <td>...</td>\n",
       "      <td>...</td>\n",
       "    </tr>\n",
       "    <tr>\n",
       "      <th>4996</th>\n",
       "      <td>7230400430</td>\n",
       "      <td>2014-09-30</td>\n",
       "      <td>322400.00</td>\n",
       "      <td>3</td>\n",
       "      <td>1.75</td>\n",
       "      <td>1710</td>\n",
       "      <td>15844</td>\n",
       "      <td>1.00</td>\n",
       "      <td>0</td>\n",
       "      <td>0</td>\n",
       "      <td>...</td>\n",
       "      <td>0</td>\n",
       "      <td>98059</td>\n",
       "      <td>47.47</td>\n",
       "      <td>-122.10</td>\n",
       "      <td>1990</td>\n",
       "      <td>20359</td>\n",
       "      <td>old_house</td>\n",
       "      <td>house</td>\n",
       "      <td>regular</td>\n",
       "      <td>tier 2</td>\n",
       "    </tr>\n",
       "    <tr>\n",
       "      <th>4997</th>\n",
       "      <td>7140600190</td>\n",
       "      <td>2014-09-05</td>\n",
       "      <td>233500.00</td>\n",
       "      <td>3</td>\n",
       "      <td>1.50</td>\n",
       "      <td>1580</td>\n",
       "      <td>10517</td>\n",
       "      <td>1.00</td>\n",
       "      <td>0</td>\n",
       "      <td>0</td>\n",
       "      <td>...</td>\n",
       "      <td>0</td>\n",
       "      <td>98002</td>\n",
       "      <td>47.29</td>\n",
       "      <td>-122.21</td>\n",
       "      <td>1400</td>\n",
       "      <td>10658</td>\n",
       "      <td>old_house</td>\n",
       "      <td>house</td>\n",
       "      <td>regular</td>\n",
       "      <td>tier 1</td>\n",
       "    </tr>\n",
       "    <tr>\n",
       "      <th>4998</th>\n",
       "      <td>6817801410</td>\n",
       "      <td>2014-06-24</td>\n",
       "      <td>400000.00</td>\n",
       "      <td>3</td>\n",
       "      <td>2.00</td>\n",
       "      <td>1230</td>\n",
       "      <td>11413</td>\n",
       "      <td>1.00</td>\n",
       "      <td>0</td>\n",
       "      <td>0</td>\n",
       "      <td>...</td>\n",
       "      <td>0</td>\n",
       "      <td>98074</td>\n",
       "      <td>47.63</td>\n",
       "      <td>-122.03</td>\n",
       "      <td>1570</td>\n",
       "      <td>11517</td>\n",
       "      <td>old_house</td>\n",
       "      <td>house</td>\n",
       "      <td>regular</td>\n",
       "      <td>tier 2</td>\n",
       "    </tr>\n",
       "    <tr>\n",
       "      <th>4999</th>\n",
       "      <td>6430500010</td>\n",
       "      <td>2014-06-20</td>\n",
       "      <td>547000.00</td>\n",
       "      <td>5</td>\n",
       "      <td>2.50</td>\n",
       "      <td>2200</td>\n",
       "      <td>4080</td>\n",
       "      <td>1.50</td>\n",
       "      <td>0</td>\n",
       "      <td>0</td>\n",
       "      <td>...</td>\n",
       "      <td>0</td>\n",
       "      <td>98103</td>\n",
       "      <td>47.69</td>\n",
       "      <td>-122.35</td>\n",
       "      <td>1300</td>\n",
       "      <td>4080</td>\n",
       "      <td>old_house</td>\n",
       "      <td>house</td>\n",
       "      <td>good</td>\n",
       "      <td>tier 3</td>\n",
       "    </tr>\n",
       "    <tr>\n",
       "      <th>5000</th>\n",
       "      <td>3023049215</td>\n",
       "      <td>2014-07-02</td>\n",
       "      <td>519000.00</td>\n",
       "      <td>5</td>\n",
       "      <td>2.25</td>\n",
       "      <td>2570</td>\n",
       "      <td>13054</td>\n",
       "      <td>1.00</td>\n",
       "      <td>0</td>\n",
       "      <td>1</td>\n",
       "      <td>...</td>\n",
       "      <td>1992-01-01 00:00:00</td>\n",
       "      <td>98166</td>\n",
       "      <td>47.45</td>\n",
       "      <td>-122.35</td>\n",
       "      <td>2570</td>\n",
       "      <td>19807</td>\n",
       "      <td>old_house</td>\n",
       "      <td>house</td>\n",
       "      <td>regular</td>\n",
       "      <td>tier 3</td>\n",
       "    </tr>\n",
       "  </tbody>\n",
       "</table>\n",
       "<p>5001 rows × 25 columns</p>\n",
       "</div>"
      ],
      "text/plain": [
       "              id       date     price  bedrooms  bathrooms  sqft_living  \\\n",
       "0     7129300520 2014-10-13 221900.00         3       1.00         1180   \n",
       "1     6414100192 2014-12-09 538000.00         3       2.25         2570   \n",
       "2     5631500400 2015-02-25 180000.00         2       1.00          770   \n",
       "3     2487200875 2014-12-09 604000.00         4       3.00         1960   \n",
       "4     1954400510 2015-02-18 510000.00         3       2.00         1680   \n",
       "...          ...        ...       ...       ...        ...          ...   \n",
       "4996  7230400430 2014-09-30 322400.00         3       1.75         1710   \n",
       "4997  7140600190 2014-09-05 233500.00         3       1.50         1580   \n",
       "4998  6817801410 2014-06-24 400000.00         3       2.00         1230   \n",
       "4999  6430500010 2014-06-20 547000.00         5       2.50         2200   \n",
       "5000  3023049215 2014-07-02 519000.00         5       2.25         2570   \n",
       "\n",
       "      sqft_lot  floors  waterfront  view  ...         yr_renovated  zipcode  \\\n",
       "0         5650    1.00           0     0  ...                    0    98178   \n",
       "1         7242    2.00           0     0  ...  1991-01-01 00:00:00    98125   \n",
       "2        10000    1.00           0     0  ...                    0    98028   \n",
       "3         5000    1.00           0     0  ...                    0    98136   \n",
       "4         8080    1.00           0     0  ...                    0    98074   \n",
       "...        ...     ...         ...   ...  ...                  ...      ...   \n",
       "4996     15844    1.00           0     0  ...                    0    98059   \n",
       "4997     10517    1.00           0     0  ...                    0    98002   \n",
       "4998     11413    1.00           0     0  ...                    0    98074   \n",
       "4999      4080    1.50           0     0  ...                    0    98103   \n",
       "5000     13054    1.00           0     1  ...  1992-01-01 00:00:00    98166   \n",
       "\n",
       "       lat    long  sqft_living15 sqft_lot15  house_age  dormitory_type  \\\n",
       "0    47.51 -122.26           1340       5650  old_house           house   \n",
       "1    47.72 -122.32           1690       7639  old_house           house   \n",
       "2    47.74 -122.23           2720       8062  old_house       apartment   \n",
       "3    47.52 -122.39           1360       5000  old_house           house   \n",
       "4    47.62 -122.05           1800       7503  old_house           house   \n",
       "...    ...     ...            ...        ...        ...             ...   \n",
       "4996 47.47 -122.10           1990      20359  old_house           house   \n",
       "4997 47.29 -122.21           1400      10658  old_house           house   \n",
       "4998 47.63 -122.03           1570      11517  old_house           house   \n",
       "4999 47.69 -122.35           1300       4080  old_house           house   \n",
       "5000 47.45 -122.35           2570      19807  old_house           house   \n",
       "\n",
       "      condition_type  price_tier  \n",
       "0            regular      tier 1  \n",
       "1            regular      tier 3  \n",
       "2            regular      tier 1  \n",
       "3               good      tier 3  \n",
       "4            regular      tier 3  \n",
       "...              ...         ...  \n",
       "4996         regular      tier 2  \n",
       "4997         regular      tier 1  \n",
       "4998         regular      tier 2  \n",
       "4999            good      tier 3  \n",
       "5000         regular      tier 3  \n",
       "\n",
       "[5001 rows x 25 columns]"
      ]
     },
     "execution_count": 108,
     "metadata": {},
     "output_type": "execute_result"
    }
   ],
   "source": [
    "data.loc[:5000,:]"
   ]
  },
  {
   "cell_type": "code",
   "execution_count": 123,
   "id": "9fd719c8",
   "metadata": {
    "ExecuteTime": {
     "end_time": "2022-04-30T15:06:43.769429Z",
     "start_time": "2022-04-30T15:06:43.746433Z"
    }
   },
   "outputs": [],
   "source": [
    "df_test = data.drop(columns =['id','zipcode','yr_renovated'])"
   ]
  },
  {
   "cell_type": "code",
   "execution_count": 124,
   "id": "90a60f68",
   "metadata": {
    "ExecuteTime": {
     "end_time": "2022-04-30T15:06:55.755339Z",
     "start_time": "2022-04-30T15:06:45.616503Z"
    }
   },
   "outputs": [
    {
     "data": {
      "application/vnd.jupyter.widget-view+json": {
       "model_id": "cc81c34384be47039185db1dcf99dba5",
       "version_major": 2,
       "version_minor": 0
      },
      "text/plain": [
       "                                             |          | [  0%]   00:00 -> (? left)"
      ]
     },
     "metadata": {},
     "output_type": "display_data"
    },
    {
     "name": "stdout",
     "output_type": "stream",
     "text": [
      "Report SWEETVIZ_REPORT.html was generated! NOTEBOOK/COLAB USERS: the web browser MAY not pop up, regardless, the report IS saved in your notebook/colab files.\n"
     ]
    }
   ],
   "source": [
    "import sweetviz as sv\n",
    "\n",
    "my_report = sv.analyze(df_test.loc[:10,:])\n",
    "my_report.show_html() "
   ]
  },
  {
   "cell_type": "code",
   "execution_count": null,
   "id": "e22512b5",
   "metadata": {},
   "outputs": [],
   "source": []
  },
  {
   "cell_type": "code",
   "execution_count": 126,
   "id": "d3763c87",
   "metadata": {
    "ExecuteTime": {
     "end_time": "2022-04-30T15:09:27.883083Z",
     "start_time": "2022-04-30T15:08:16.483310Z"
    },
    "scrolled": true
   },
   "outputs": [
    {
     "data": {
      "application/vnd.jupyter.widget-view+json": {
       "model_id": "618f9328b59844fe83f2e98615ceddce",
       "version_major": 2,
       "version_minor": 0
      },
      "text/plain": [
       "Summarize dataset:   0%|          | 0/5 [00:00<?, ?it/s]"
      ]
     },
     "metadata": {},
     "output_type": "display_data"
    },
    {
     "data": {
      "application/vnd.jupyter.widget-view+json": {
       "model_id": "38d58588062747c4a1b9818b2fbf852b",
       "version_major": 2,
       "version_minor": 0
      },
      "text/plain": [
       "Generate report structure:   0%|          | 0/1 [00:00<?, ?it/s]"
      ]
     },
     "metadata": {},
     "output_type": "display_data"
    },
    {
     "data": {
      "application/vnd.jupyter.widget-view+json": {
       "model_id": "29868de5627c46eabfe51c4e740a1d0f",
       "version_major": 2,
       "version_minor": 0
      },
      "text/plain": [
       "Render HTML:   0%|          | 0/1 [00:00<?, ?it/s]"
      ]
     },
     "metadata": {},
     "output_type": "display_data"
    },
    {
     "data": {
      "application/vnd.jupyter.widget-view+json": {
       "model_id": "01dccac5f20f4889aa2602b491915c98",
       "version_major": 2,
       "version_minor": 0
      },
      "text/plain": [
       "Export report to file:   0%|          | 0/1 [00:00<?, ?it/s]"
      ]
     },
     "metadata": {},
     "output_type": "display_data"
    }
   ],
   "source": [
    "prof = ProfileReport(data.drop(columns =['id','zipcode','yr_renovated']))\n",
    "prof.to_file(output_file='data-EDA.html')"
   ]
  },
  {
   "cell_type": "markdown",
   "id": "e316431b",
   "metadata": {},
   "source": [
    "### Validación de hipótesis"
   ]
  },
  {
   "cell_type": "code",
   "execution_count": 118,
   "id": "fe65d2ec",
   "metadata": {
    "ExecuteTime": {
     "end_time": "2022-04-30T14:59:41.838369Z",
     "start_time": "2022-04-30T14:59:41.821369Z"
    }
   },
   "outputs": [
    {
     "data": {
      "text/html": [
       "<img src=\"Precios_Casas.png\" width=\"700\" height=\"700\"/>"
      ],
      "text/plain": [
       "<IPython.core.display.Image object>"
      ]
     },
     "execution_count": 118,
     "metadata": {},
     "output_type": "execute_result"
    }
   ],
   "source": [
    "from IPython.display import Image\n",
    "Image(url= \"Precios_Casas.png\", width=700, height=700)"
   ]
  }
 ],
 "metadata": {
  "kernelspec": {
   "display_name": "Python 3 (ipykernel)",
   "language": "python",
   "name": "python3"
  },
  "language_info": {
   "codemirror_mode": {
    "name": "ipython",
    "version": 3
   },
   "file_extension": ".py",
   "mimetype": "text/x-python",
   "name": "python",
   "nbconvert_exporter": "python",
   "pygments_lexer": "ipython3",
   "version": "3.9.7"
  },
  "toc": {
   "base_numbering": 1,
   "nav_menu": {},
   "number_sections": true,
   "sideBar": true,
   "skip_h1_title": false,
   "title_cell": "Table of Contents",
   "title_sidebar": "Contents",
   "toc_cell": false,
   "toc_position": {},
   "toc_section_display": true,
   "toc_window_display": false
  },
  "varInspector": {
   "cols": {
    "lenName": 16,
    "lenType": 16,
    "lenVar": 40
   },
   "kernels_config": {
    "python": {
     "delete_cmd_postfix": "",
     "delete_cmd_prefix": "del ",
     "library": "var_list.py",
     "varRefreshCmd": "print(var_dic_list())"
    },
    "r": {
     "delete_cmd_postfix": ") ",
     "delete_cmd_prefix": "rm(",
     "library": "var_list.r",
     "varRefreshCmd": "cat(var_dic_list()) "
    }
   },
   "types_to_exclude": [
    "module",
    "function",
    "builtin_function_or_method",
    "instance",
    "_Feature"
   ],
   "window_display": false
  }
 },
 "nbformat": 4,
 "nbformat_minor": 5
}
