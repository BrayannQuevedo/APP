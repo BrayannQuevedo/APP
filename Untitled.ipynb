{
 "cells": [
  {
   "cell_type": "markdown",
   "id": "8480fd3a",
   "metadata": {},
   "source": [
    "# Mi primer notebook \n",
    "En este notebook, vamos a introducior las ideas principales\n",
    "$$\n",
    "X\\sim N(\\mu,\\sigma^2), \\hspace{1cm} f_X(x)=\\frac{1}{\\sqrt{2\\pi \\sigma^2}}\\exp\\left\\{-\\frac{(x-\\mu)^2}{2\\sigma^2}\\right\\}\n",
    "$$\n",
    "## Primera sección \n",
    "Aquí vamos a colocar los valores de los atajos de teclado. \n",
    "### Lista de items\n",
    " - Cosa 1\n",
    " - Cosa 2\n",
    " - Cosa 3\n",
    " \n",
    "### Listas numeradas\n",
    "\n",
    "1. 50 huevos en un recipiente\n",
    "2. Mezclar con la batidora industrial \n",
    "3. Despegue y pa'l horno\n",
    "\n",
    "- [Haga click acá](https://www.google.com/)"
   ]
  }
 ],
 "metadata": {
  "kernelspec": {
   "display_name": "Python 3 (ipykernel)",
   "language": "python",
   "name": "python3"
  },
  "language_info": {
   "codemirror_mode": {
    "name": "ipython",
    "version": 3
   },
   "file_extension": ".py",
   "mimetype": "text/x-python",
   "name": "python",
   "nbconvert_exporter": "python",
   "pygments_lexer": "ipython3",
   "version": "3.9.7"
  },
  "toc": {
   "base_numbering": 1,
   "nav_menu": {},
   "number_sections": false,
   "sideBar": true,
   "skip_h1_title": false,
   "title_cell": "Table of Contents",
   "title_sidebar": "Contents",
   "toc_cell": false,
   "toc_position": {},
   "toc_section_display": true,
   "toc_window_display": false
  },
  "varInspector": {
   "cols": {
    "lenName": 16,
    "lenType": 16,
    "lenVar": 40
   },
   "kernels_config": {
    "python": {
     "delete_cmd_postfix": "",
     "delete_cmd_prefix": "del ",
     "library": "var_list.py",
     "varRefreshCmd": "print(var_dic_list())"
    },
    "r": {
     "delete_cmd_postfix": ") ",
     "delete_cmd_prefix": "rm(",
     "library": "var_list.r",
     "varRefreshCmd": "cat(var_dic_list()) "
    }
   },
   "types_to_exclude": [
    "module",
    "function",
    "builtin_function_or_method",
    "instance",
    "_Feature"
   ],
   "window_display": false
  }
 },
 "nbformat": 4,
 "nbformat_minor": 5
}
