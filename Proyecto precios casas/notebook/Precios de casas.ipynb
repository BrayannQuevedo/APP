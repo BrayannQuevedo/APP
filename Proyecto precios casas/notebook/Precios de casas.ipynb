{
 "cells": [
  {
   "cell_type": "markdown",
   "metadata": {},
   "source": [
    "# Proyecto Venta de Casas en King County, USA"
   ]
  },
  {
   "cell_type": "markdown",
   "metadata": {},
   "source": [
    "id - Unique ID for each home sold\n",
    "\n",
    "date - Date of the home sale\n",
    "\n",
    "price - Price of each home sold\n",
    "\n",
    "bedrooms - Number of bedrooms\n",
    "\n",
    "bathrooms - Number of bathrooms, where .5 accounts for a room with a toilet but no shower\n",
    "\n",
    "sqft_living - Square footage of the apartments interior living space\n",
    "\n",
    "sqft_lot - Square footage of the land space\n",
    "\n",
    "floors - Number of floors\n",
    "\n",
    "waterfront - A dummy variable for whether the apartment was overlooking the waterfront or not\n",
    "\n",
    "view - An index from 0 to 4 of how good the view of the property was\n",
    "\n",
    "condition - An index from 1 to 5 on the condition of the apartment,\n",
    "\n",
    "grade - An index from 1 to 13, where 1-3 falls short of building construction and design, 7 has an average level of \n",
    "construction and design, and 11-13 have a high quality level of construction and design.\n",
    "\n",
    "sqft_above - The square footage of the interior housing space that is above ground level\n",
    "\n",
    "sqft_basement - The square footage of the interior housing space that is below ground level\n",
    "\n",
    "yr_built - The year the house was initially built\n",
    "\n",
    "yr_renovated - The year of the house’s last renovation\n",
    "\n",
    "zipcode - What zipcode area the house is in\n",
    "\n",
    "lat - Lattitude\n",
    "\n",
    "long - Longitude\n",
    "\n",
    "sqft_living15 - The square footage of interior housing living space for the nearest 15 neighbors\n",
    "\n",
    "sqft_lot15 - The square footage of the land lots of the nearest 15 neighbors"
   ]
  },
  {
   "cell_type": "markdown",
   "metadata": {
    "ExecuteTime": {
     "end_time": "2022-04-03T15:31:51.771121Z",
     "start_time": "2022-04-03T15:31:51.737119Z"
    }
   },
   "source": [
    "Los datos están disponibles [aquí](https://www.kaggle.com/datasets/harlfoxem/housesalesprediction)\n",
    "\n",
    "## Preguntas del CEO\n",
    "A partir de estos datos, hay que contestar las siguientes preguntas. \n",
    "\n",
    "1. ¿Cuántas casas hay disponibles para comprar?\n",
    "2. ¿Cuántos atributos tienen las casas?\n",
    "3. ¿Cuáles son los atributos de las casas?\n",
    "4. ¿Cuál es la casa más cara (casa con mayor valor de venta)?\n",
    "5. ¿Qué casa tiene más cuartos?\n",
    "6. ¿Cuál es la suma total de trimestres en el conjunto de datos?\n",
    "7. ¿Cuántas casas tienen 2 baños?\n",
    "8. ¿Cuál es el precio promedio de todas las casas en el conjunto de datos?\n",
    "9. ¿Cuál es el precio medio de las viviendas de 2 baños?\n",
    "10. ¿Cuál es el precio mínimo para viviendas de 3 dormitorios?\n",
    "11. ¿Cuántas casas tienen más de 300 metros cuadrados en la sala?\n",
    "12. ¿Cuántas casas tienen más de 2 plantas?\n",
    "13. ¿Cuántas casas tienen vista al mar?\n",
    "14. De las casas con vistas al mar, ¿cuántas tienen 3 habitaciones?\n",
    "15. De las casas con más de 300 metros cuadrados de salón, ¿cuántas tienen más de 2 baños?"
   ]
  },
  {
   "cell_type": "markdown",
   "metadata": {},
   "source": [
    "## Respondiendo las preguntas del CEO "
   ]
  },
  {
   "cell_type": "code",
   "execution_count": 9,
   "metadata": {
    "ExecuteTime": {
     "end_time": "2022-04-08T23:56:04.452053Z",
     "start_time": "2022-04-08T23:56:04.446049Z"
    }
   },
   "outputs": [],
   "source": [
    "listas = ['a','b','c']\n",
    "tuplas = ('a','b','c')\n",
    "diccionarios = {'Var1':1, 'Var':2}"
   ]
  },
  {
   "cell_type": "code",
   "execution_count": 10,
   "metadata": {
    "ExecuteTime": {
     "end_time": "2022-04-08T23:56:04.606052Z",
     "start_time": "2022-04-08T23:56:04.602055Z"
    }
   },
   "outputs": [],
   "source": [
    "data = {'col_1': [3, 2, 1, 0], 'col_2': ['a', 'b', 'c', 'd']}"
   ]
  },
  {
   "cell_type": "code",
   "execution_count": 11,
   "metadata": {
    "ExecuteTime": {
     "end_time": "2022-04-08T23:56:04.797049Z",
     "start_time": "2022-04-08T23:56:04.781054Z"
    },
    "scrolled": true
   },
   "outputs": [
    {
     "data": {
      "text/html": [
       "<div>\n",
       "<style scoped>\n",
       "    .dataframe tbody tr th:only-of-type {\n",
       "        vertical-align: middle;\n",
       "    }\n",
       "\n",
       "    .dataframe tbody tr th {\n",
       "        vertical-align: top;\n",
       "    }\n",
       "\n",
       "    .dataframe thead th {\n",
       "        text-align: right;\n",
       "    }\n",
       "</style>\n",
       "<table border=\"1\" class=\"dataframe\">\n",
       "  <thead>\n",
       "    <tr style=\"text-align: right;\">\n",
       "      <th></th>\n",
       "      <th>col_1</th>\n",
       "      <th>col_2</th>\n",
       "    </tr>\n",
       "  </thead>\n",
       "  <tbody>\n",
       "    <tr>\n",
       "      <th>0</th>\n",
       "      <td>3</td>\n",
       "      <td>a</td>\n",
       "    </tr>\n",
       "    <tr>\n",
       "      <th>1</th>\n",
       "      <td>2</td>\n",
       "      <td>b</td>\n",
       "    </tr>\n",
       "    <tr>\n",
       "      <th>2</th>\n",
       "      <td>1</td>\n",
       "      <td>c</td>\n",
       "    </tr>\n",
       "    <tr>\n",
       "      <th>3</th>\n",
       "      <td>0</td>\n",
       "      <td>d</td>\n",
       "    </tr>\n",
       "  </tbody>\n",
       "</table>\n",
       "</div>"
      ],
      "text/plain": [
       "   col_1 col_2\n",
       "0      3     a\n",
       "1      2     b\n",
       "2      1     c\n",
       "3      0     d"
      ]
     },
     "execution_count": 11,
     "metadata": {},
     "output_type": "execute_result"
    }
   ],
   "source": [
    "pd.DataFrame.from_dict(data)"
   ]
  },
  {
   "cell_type": "code",
   "execution_count": 6,
   "metadata": {
    "ExecuteTime": {
     "end_time": "2022-04-09T00:32:43.624726Z",
     "start_time": "2022-04-09T00:32:43.618725Z"
    }
   },
   "outputs": [],
   "source": [
    "import pandas as pd"
   ]
  },
  {
   "cell_type": "code",
   "execution_count": null,
   "metadata": {},
   "outputs": [],
   "source": [
    "C:/Users/Windows/Google Drive/U libertadores/2022.1/Diplomado Data Science/Proyecto precios casas/data"
   ]
  },
  {
   "cell_type": "code",
   "execution_count": 159,
   "metadata": {
    "ExecuteTime": {
     "end_time": "2022-04-09T02:00:44.077282Z",
     "start_time": "2022-04-09T02:00:43.942280Z"
    }
   },
   "outputs": [],
   "source": [
    "data = pd.read_csv('C:/Users/Windows/Google Drive/U libertadores/2022.1/Diplomado Data Science/Proyecto precios casas/data/kc_house_data.csv')"
   ]
  },
  {
   "cell_type": "code",
   "execution_count": 85,
   "metadata": {
    "ExecuteTime": {
     "end_time": "2022-04-09T01:18:26.259953Z",
     "start_time": "2022-04-09T01:18:26.228953Z"
    }
   },
   "outputs": [
    {
     "data": {
      "text/html": [
       "<div>\n",
       "<style scoped>\n",
       "    .dataframe tbody tr th:only-of-type {\n",
       "        vertical-align: middle;\n",
       "    }\n",
       "\n",
       "    .dataframe tbody tr th {\n",
       "        vertical-align: top;\n",
       "    }\n",
       "\n",
       "    .dataframe thead th {\n",
       "        text-align: right;\n",
       "    }\n",
       "</style>\n",
       "<table border=\"1\" class=\"dataframe\">\n",
       "  <thead>\n",
       "    <tr style=\"text-align: right;\">\n",
       "      <th></th>\n",
       "      <th>0</th>\n",
       "      <th>1</th>\n",
       "      <th>2</th>\n",
       "      <th>3</th>\n",
       "      <th>4</th>\n",
       "    </tr>\n",
       "  </thead>\n",
       "  <tbody>\n",
       "    <tr>\n",
       "      <th>id</th>\n",
       "      <td>7129300520</td>\n",
       "      <td>6414100192</td>\n",
       "      <td>5631500400</td>\n",
       "      <td>2487200875</td>\n",
       "      <td>1954400510</td>\n",
       "    </tr>\n",
       "    <tr>\n",
       "      <th>date</th>\n",
       "      <td>20141013T000000</td>\n",
       "      <td>20141209T000000</td>\n",
       "      <td>20150225T000000</td>\n",
       "      <td>20141209T000000</td>\n",
       "      <td>20150218T000000</td>\n",
       "    </tr>\n",
       "    <tr>\n",
       "      <th>price</th>\n",
       "      <td>221900.0</td>\n",
       "      <td>538000.0</td>\n",
       "      <td>180000.0</td>\n",
       "      <td>604000.0</td>\n",
       "      <td>510000.0</td>\n",
       "    </tr>\n",
       "    <tr>\n",
       "      <th>bedrooms</th>\n",
       "      <td>3</td>\n",
       "      <td>3</td>\n",
       "      <td>2</td>\n",
       "      <td>4</td>\n",
       "      <td>3</td>\n",
       "    </tr>\n",
       "    <tr>\n",
       "      <th>bathrooms</th>\n",
       "      <td>1.0</td>\n",
       "      <td>2.25</td>\n",
       "      <td>1.0</td>\n",
       "      <td>3.0</td>\n",
       "      <td>2.0</td>\n",
       "    </tr>\n",
       "    <tr>\n",
       "      <th>sqft_living</th>\n",
       "      <td>1180</td>\n",
       "      <td>2570</td>\n",
       "      <td>770</td>\n",
       "      <td>1960</td>\n",
       "      <td>1680</td>\n",
       "    </tr>\n",
       "    <tr>\n",
       "      <th>sqft_lot</th>\n",
       "      <td>5650</td>\n",
       "      <td>7242</td>\n",
       "      <td>10000</td>\n",
       "      <td>5000</td>\n",
       "      <td>8080</td>\n",
       "    </tr>\n",
       "    <tr>\n",
       "      <th>floors</th>\n",
       "      <td>1.0</td>\n",
       "      <td>2.0</td>\n",
       "      <td>1.0</td>\n",
       "      <td>1.0</td>\n",
       "      <td>1.0</td>\n",
       "    </tr>\n",
       "    <tr>\n",
       "      <th>waterfront</th>\n",
       "      <td>0</td>\n",
       "      <td>0</td>\n",
       "      <td>0</td>\n",
       "      <td>0</td>\n",
       "      <td>0</td>\n",
       "    </tr>\n",
       "    <tr>\n",
       "      <th>view</th>\n",
       "      <td>0</td>\n",
       "      <td>0</td>\n",
       "      <td>0</td>\n",
       "      <td>0</td>\n",
       "      <td>0</td>\n",
       "    </tr>\n",
       "    <tr>\n",
       "      <th>condition</th>\n",
       "      <td>3</td>\n",
       "      <td>3</td>\n",
       "      <td>3</td>\n",
       "      <td>5</td>\n",
       "      <td>3</td>\n",
       "    </tr>\n",
       "    <tr>\n",
       "      <th>grade</th>\n",
       "      <td>7</td>\n",
       "      <td>7</td>\n",
       "      <td>6</td>\n",
       "      <td>7</td>\n",
       "      <td>8</td>\n",
       "    </tr>\n",
       "    <tr>\n",
       "      <th>sqft_above</th>\n",
       "      <td>1180</td>\n",
       "      <td>2170</td>\n",
       "      <td>770</td>\n",
       "      <td>1050</td>\n",
       "      <td>1680</td>\n",
       "    </tr>\n",
       "    <tr>\n",
       "      <th>sqft_basement</th>\n",
       "      <td>0</td>\n",
       "      <td>400</td>\n",
       "      <td>0</td>\n",
       "      <td>910</td>\n",
       "      <td>0</td>\n",
       "    </tr>\n",
       "    <tr>\n",
       "      <th>yr_built</th>\n",
       "      <td>1955</td>\n",
       "      <td>1951</td>\n",
       "      <td>1933</td>\n",
       "      <td>1965</td>\n",
       "      <td>1987</td>\n",
       "    </tr>\n",
       "    <tr>\n",
       "      <th>yr_renovated</th>\n",
       "      <td>0</td>\n",
       "      <td>1991</td>\n",
       "      <td>0</td>\n",
       "      <td>0</td>\n",
       "      <td>0</td>\n",
       "    </tr>\n",
       "    <tr>\n",
       "      <th>zipcode</th>\n",
       "      <td>98178</td>\n",
       "      <td>98125</td>\n",
       "      <td>98028</td>\n",
       "      <td>98136</td>\n",
       "      <td>98074</td>\n",
       "    </tr>\n",
       "    <tr>\n",
       "      <th>lat</th>\n",
       "      <td>47.5112</td>\n",
       "      <td>47.721</td>\n",
       "      <td>47.7379</td>\n",
       "      <td>47.5208</td>\n",
       "      <td>47.6168</td>\n",
       "    </tr>\n",
       "    <tr>\n",
       "      <th>long</th>\n",
       "      <td>-122.257</td>\n",
       "      <td>-122.319</td>\n",
       "      <td>-122.233</td>\n",
       "      <td>-122.393</td>\n",
       "      <td>-122.045</td>\n",
       "    </tr>\n",
       "    <tr>\n",
       "      <th>sqft_living15</th>\n",
       "      <td>1340</td>\n",
       "      <td>1690</td>\n",
       "      <td>2720</td>\n",
       "      <td>1360</td>\n",
       "      <td>1800</td>\n",
       "    </tr>\n",
       "    <tr>\n",
       "      <th>sqft_lot15</th>\n",
       "      <td>5650</td>\n",
       "      <td>7639</td>\n",
       "      <td>8062</td>\n",
       "      <td>5000</td>\n",
       "      <td>7503</td>\n",
       "    </tr>\n",
       "  </tbody>\n",
       "</table>\n",
       "</div>"
      ],
      "text/plain": [
       "                             0                1                2  \\\n",
       "id                  7129300520       6414100192       5631500400   \n",
       "date           20141013T000000  20141209T000000  20150225T000000   \n",
       "price                 221900.0         538000.0         180000.0   \n",
       "bedrooms                     3                3                2   \n",
       "bathrooms                  1.0             2.25              1.0   \n",
       "sqft_living               1180             2570              770   \n",
       "sqft_lot                  5650             7242            10000   \n",
       "floors                     1.0              2.0              1.0   \n",
       "waterfront                   0                0                0   \n",
       "view                         0                0                0   \n",
       "condition                    3                3                3   \n",
       "grade                        7                7                6   \n",
       "sqft_above                1180             2170              770   \n",
       "sqft_basement                0              400                0   \n",
       "yr_built                  1955             1951             1933   \n",
       "yr_renovated                 0             1991                0   \n",
       "zipcode                  98178            98125            98028   \n",
       "lat                    47.5112           47.721          47.7379   \n",
       "long                  -122.257         -122.319         -122.233   \n",
       "sqft_living15             1340             1690             2720   \n",
       "sqft_lot15                5650             7639             8062   \n",
       "\n",
       "                             3                4  \n",
       "id                  2487200875       1954400510  \n",
       "date           20141209T000000  20150218T000000  \n",
       "price                 604000.0         510000.0  \n",
       "bedrooms                     4                3  \n",
       "bathrooms                  3.0              2.0  \n",
       "sqft_living               1960             1680  \n",
       "sqft_lot                  5000             8080  \n",
       "floors                     1.0              1.0  \n",
       "waterfront                   0                0  \n",
       "view                         0                0  \n",
       "condition                    5                3  \n",
       "grade                        7                8  \n",
       "sqft_above                1050             1680  \n",
       "sqft_basement              910                0  \n",
       "yr_built                  1965             1987  \n",
       "yr_renovated                 0                0  \n",
       "zipcode                  98136            98074  \n",
       "lat                    47.5208          47.6168  \n",
       "long                  -122.393         -122.045  \n",
       "sqft_living15             1360             1800  \n",
       "sqft_lot15                5000             7503  "
      ]
     },
     "execution_count": 85,
     "metadata": {},
     "output_type": "execute_result"
    }
   ],
   "source": [
    "data.head().T"
   ]
  },
  {
   "cell_type": "code",
   "execution_count": 10,
   "metadata": {
    "ExecuteTime": {
     "end_time": "2022-04-09T00:34:54.276028Z",
     "start_time": "2022-04-09T00:34:54.267023Z"
    }
   },
   "outputs": [
    {
     "data": {
      "text/plain": [
       "Index(['id', 'date', 'price', 'bedrooms', 'bathrooms', 'sqft_living',\n",
       "       'sqft_lot', 'floors', 'waterfront', 'view', 'condition', 'grade',\n",
       "       'sqft_above', 'sqft_basement', 'yr_built', 'yr_renovated', 'zipcode',\n",
       "       'lat', 'long', 'sqft_living15', 'sqft_lot15'],\n",
       "      dtype='object')"
      ]
     },
     "execution_count": 10,
     "metadata": {},
     "output_type": "execute_result"
    }
   ],
   "source": [
    "data.columns"
   ]
  },
  {
   "cell_type": "code",
   "execution_count": 11,
   "metadata": {
    "ExecuteTime": {
     "end_time": "2022-04-09T00:35:53.269663Z",
     "start_time": "2022-04-09T00:35:53.261075Z"
    }
   },
   "outputs": [
    {
     "data": {
      "text/plain": [
       "(21613, 21)"
      ]
     },
     "execution_count": 11,
     "metadata": {},
     "output_type": "execute_result"
    }
   ],
   "source": [
    "data.shape"
   ]
  },
  {
   "cell_type": "code",
   "execution_count": 12,
   "metadata": {
    "ExecuteTime": {
     "end_time": "2022-04-09T00:36:17.356675Z",
     "start_time": "2022-04-09T00:36:17.346673Z"
    }
   },
   "outputs": [
    {
     "data": {
      "text/plain": [
       "id                 int64\n",
       "date              object\n",
       "price            float64\n",
       "bedrooms           int64\n",
       "bathrooms        float64\n",
       "sqft_living        int64\n",
       "sqft_lot           int64\n",
       "floors           float64\n",
       "waterfront         int64\n",
       "view               int64\n",
       "condition          int64\n",
       "grade              int64\n",
       "sqft_above         int64\n",
       "sqft_basement      int64\n",
       "yr_built           int64\n",
       "yr_renovated       int64\n",
       "zipcode            int64\n",
       "lat              float64\n",
       "long             float64\n",
       "sqft_living15      int64\n",
       "sqft_lot15         int64\n",
       "dtype: object"
      ]
     },
     "execution_count": 12,
     "metadata": {},
     "output_type": "execute_result"
    }
   ],
   "source": [
    "data.dtypes"
   ]
  },
  {
   "cell_type": "code",
   "execution_count": 20,
   "metadata": {
    "ExecuteTime": {
     "end_time": "2022-04-09T00:40:41.593317Z",
     "start_time": "2022-04-09T00:40:41.552321Z"
    }
   },
   "outputs": [
    {
     "data": {
      "text/html": [
       "<div>\n",
       "<style scoped>\n",
       "    .dataframe tbody tr th:only-of-type {\n",
       "        vertical-align: middle;\n",
       "    }\n",
       "\n",
       "    .dataframe tbody tr th {\n",
       "        vertical-align: top;\n",
       "    }\n",
       "\n",
       "    .dataframe thead th {\n",
       "        text-align: right;\n",
       "    }\n",
       "</style>\n",
       "<table border=\"1\" class=\"dataframe\">\n",
       "  <thead>\n",
       "    <tr style=\"text-align: right;\">\n",
       "      <th></th>\n",
       "      <th>sqft_basement</th>\n",
       "      <th>zipcode</th>\n",
       "    </tr>\n",
       "  </thead>\n",
       "  <tbody>\n",
       "    <tr>\n",
       "      <th>0</th>\n",
       "      <td>0</td>\n",
       "      <td>98178</td>\n",
       "    </tr>\n",
       "    <tr>\n",
       "      <th>1</th>\n",
       "      <td>400</td>\n",
       "      <td>98125</td>\n",
       "    </tr>\n",
       "    <tr>\n",
       "      <th>2</th>\n",
       "      <td>0</td>\n",
       "      <td>98028</td>\n",
       "    </tr>\n",
       "    <tr>\n",
       "      <th>3</th>\n",
       "      <td>910</td>\n",
       "      <td>98136</td>\n",
       "    </tr>\n",
       "    <tr>\n",
       "      <th>4</th>\n",
       "      <td>0</td>\n",
       "      <td>98074</td>\n",
       "    </tr>\n",
       "    <tr>\n",
       "      <th>...</th>\n",
       "      <td>...</td>\n",
       "      <td>...</td>\n",
       "    </tr>\n",
       "    <tr>\n",
       "      <th>21608</th>\n",
       "      <td>0</td>\n",
       "      <td>98103</td>\n",
       "    </tr>\n",
       "    <tr>\n",
       "      <th>21609</th>\n",
       "      <td>0</td>\n",
       "      <td>98146</td>\n",
       "    </tr>\n",
       "    <tr>\n",
       "      <th>21610</th>\n",
       "      <td>0</td>\n",
       "      <td>98144</td>\n",
       "    </tr>\n",
       "    <tr>\n",
       "      <th>21611</th>\n",
       "      <td>0</td>\n",
       "      <td>98027</td>\n",
       "    </tr>\n",
       "    <tr>\n",
       "      <th>21612</th>\n",
       "      <td>0</td>\n",
       "      <td>98144</td>\n",
       "    </tr>\n",
       "  </tbody>\n",
       "</table>\n",
       "<p>21613 rows × 2 columns</p>\n",
       "</div>"
      ],
      "text/plain": [
       "       sqft_basement  zipcode\n",
       "0                  0    98178\n",
       "1                400    98125\n",
       "2                  0    98028\n",
       "3                910    98136\n",
       "4                  0    98074\n",
       "...              ...      ...\n",
       "21608              0    98103\n",
       "21609              0    98146\n",
       "21610              0    98144\n",
       "21611              0    98027\n",
       "21612              0    98144\n",
       "\n",
       "[21613 rows x 2 columns]"
      ]
     },
     "execution_count": 20,
     "metadata": {},
     "output_type": "execute_result"
    }
   ],
   "source": [
    "data[['sqft_basement','zipcode']]"
   ]
  },
  {
   "cell_type": "markdown",
   "metadata": {},
   "source": [
    "# 1. ¿Cuántas casas hay disponibles para comprar?\n"
   ]
  },
  {
   "cell_type": "code",
   "execution_count": 37,
   "metadata": {
    "ExecuteTime": {
     "end_time": "2022-04-09T00:49:12.314189Z",
     "start_time": "2022-04-09T00:49:12.304134Z"
    },
    "scrolled": true
   },
   "outputs": [
    {
     "name": "stdout",
     "output_type": "stream",
     "text": [
      "Están disponibles 21436 casas\n"
     ]
    }
   ],
   "source": [
    "print('Están disponibles {} casas'.format(data['id'].nunique()))"
   ]
  },
  {
   "cell_type": "markdown",
   "metadata": {},
   "source": [
    "# 2. ¿Cuántos atributos tienen las casas?\n"
   ]
  },
  {
   "cell_type": "code",
   "execution_count": 46,
   "metadata": {
    "ExecuteTime": {
     "end_time": "2022-04-09T00:56:42.411569Z",
     "start_time": "2022-04-09T00:56:42.401601Z"
    }
   },
   "outputs": [
    {
     "name": "stdout",
     "output_type": "stream",
     "text": [
      "Los inmuebles tienen 19 atributos\n"
     ]
    }
   ],
   "source": [
    "print('Los inmuebles tienen {} atributos'.format(len(data.columns)-2))"
   ]
  },
  {
   "cell_type": "markdown",
   "metadata": {},
   "source": [
    "# 3. ¿Cuáles son los atributos de las casas?\n"
   ]
  },
  {
   "cell_type": "code",
   "execution_count": 63,
   "metadata": {
    "ExecuteTime": {
     "end_time": "2022-04-09T01:02:58.560166Z",
     "start_time": "2022-04-09T01:02:58.554166Z"
    }
   },
   "outputs": [
    {
     "name": "stdout",
     "output_type": "stream",
     "text": [
      "Los atributos de las casas son: ['price', 'bedrooms', 'bathrooms', 'sqft_living', 'sqft_lot', 'floors', 'waterfront', 'view', 'condition', 'grade', 'sqft_above', 'sqft_basement', 'yr_built', 'yr_renovated', 'zipcode', 'lat', 'long', 'sqft_living15', 'sqft_lot15']\n"
     ]
    }
   ],
   "source": [
    "aux = data.columns.tolist()\n",
    "aux.remove('id')\n",
    "aux.remove('date')\n",
    "print('Los atributos de las casas son: {}'.format(aux))"
   ]
  },
  {
   "cell_type": "markdown",
   "metadata": {},
   "source": [
    "# 4. ¿Cuál es la casa más cara (casa con mayor valor de venta)?\n"
   ]
  },
  {
   "cell_type": "code",
   "execution_count": 80,
   "metadata": {
    "ExecuteTime": {
     "end_time": "2022-04-09T01:16:19.542777Z",
     "start_time": "2022-04-09T01:16:19.502782Z"
    }
   },
   "outputs": [
    {
     "data": {
      "text/html": [
       "<div>\n",
       "<style scoped>\n",
       "    .dataframe tbody tr th:only-of-type {\n",
       "        vertical-align: middle;\n",
       "    }\n",
       "\n",
       "    .dataframe tbody tr th {\n",
       "        vertical-align: top;\n",
       "    }\n",
       "\n",
       "    .dataframe thead th {\n",
       "        text-align: right;\n",
       "    }\n",
       "</style>\n",
       "<table border=\"1\" class=\"dataframe\">\n",
       "  <thead>\n",
       "    <tr style=\"text-align: right;\">\n",
       "      <th></th>\n",
       "      <th>7252</th>\n",
       "    </tr>\n",
       "  </thead>\n",
       "  <tbody>\n",
       "    <tr>\n",
       "      <th>id</th>\n",
       "      <td>6762700020</td>\n",
       "    </tr>\n",
       "    <tr>\n",
       "      <th>date</th>\n",
       "      <td>20141013T000000</td>\n",
       "    </tr>\n",
       "    <tr>\n",
       "      <th>price</th>\n",
       "      <td>7700000.0</td>\n",
       "    </tr>\n",
       "    <tr>\n",
       "      <th>bedrooms</th>\n",
       "      <td>6</td>\n",
       "    </tr>\n",
       "    <tr>\n",
       "      <th>bathrooms</th>\n",
       "      <td>8.0</td>\n",
       "    </tr>\n",
       "    <tr>\n",
       "      <th>sqft_living</th>\n",
       "      <td>12050</td>\n",
       "    </tr>\n",
       "    <tr>\n",
       "      <th>sqft_lot</th>\n",
       "      <td>27600</td>\n",
       "    </tr>\n",
       "    <tr>\n",
       "      <th>floors</th>\n",
       "      <td>2.5</td>\n",
       "    </tr>\n",
       "    <tr>\n",
       "      <th>waterfront</th>\n",
       "      <td>0</td>\n",
       "    </tr>\n",
       "    <tr>\n",
       "      <th>view</th>\n",
       "      <td>3</td>\n",
       "    </tr>\n",
       "    <tr>\n",
       "      <th>condition</th>\n",
       "      <td>4</td>\n",
       "    </tr>\n",
       "    <tr>\n",
       "      <th>grade</th>\n",
       "      <td>13</td>\n",
       "    </tr>\n",
       "    <tr>\n",
       "      <th>sqft_above</th>\n",
       "      <td>8570</td>\n",
       "    </tr>\n",
       "    <tr>\n",
       "      <th>sqft_basement</th>\n",
       "      <td>3480</td>\n",
       "    </tr>\n",
       "    <tr>\n",
       "      <th>yr_built</th>\n",
       "      <td>1910</td>\n",
       "    </tr>\n",
       "    <tr>\n",
       "      <th>yr_renovated</th>\n",
       "      <td>1987</td>\n",
       "    </tr>\n",
       "    <tr>\n",
       "      <th>zipcode</th>\n",
       "      <td>98102</td>\n",
       "    </tr>\n",
       "    <tr>\n",
       "      <th>lat</th>\n",
       "      <td>47.6298</td>\n",
       "    </tr>\n",
       "    <tr>\n",
       "      <th>long</th>\n",
       "      <td>-122.323</td>\n",
       "    </tr>\n",
       "    <tr>\n",
       "      <th>sqft_living15</th>\n",
       "      <td>3940</td>\n",
       "    </tr>\n",
       "    <tr>\n",
       "      <th>sqft_lot15</th>\n",
       "      <td>8800</td>\n",
       "    </tr>\n",
       "  </tbody>\n",
       "</table>\n",
       "</div>"
      ],
      "text/plain": [
       "                          7252\n",
       "id                  6762700020\n",
       "date           20141013T000000\n",
       "price                7700000.0\n",
       "bedrooms                     6\n",
       "bathrooms                  8.0\n",
       "sqft_living              12050\n",
       "sqft_lot                 27600\n",
       "floors                     2.5\n",
       "waterfront                   0\n",
       "view                         3\n",
       "condition                    4\n",
       "grade                       13\n",
       "sqft_above                8570\n",
       "sqft_basement             3480\n",
       "yr_built                  1910\n",
       "yr_renovated              1987\n",
       "zipcode                  98102\n",
       "lat                    47.6298\n",
       "long                  -122.323\n",
       "sqft_living15             3940\n",
       "sqft_lot15                8800"
      ]
     },
     "execution_count": 80,
     "metadata": {},
     "output_type": "execute_result"
    }
   ],
   "source": [
    "data[data['price']==data['price'].max()].T"
   ]
  },
  {
   "cell_type": "markdown",
   "metadata": {},
   "source": [
    "# 5. ¿Qué casa tiene más cuartos?\n"
   ]
  },
  {
   "cell_type": "code",
   "execution_count": 83,
   "metadata": {
    "ExecuteTime": {
     "end_time": "2022-04-09T01:18:06.225581Z",
     "start_time": "2022-04-09T01:18:06.205580Z"
    }
   },
   "outputs": [
    {
     "data": {
      "text/html": [
       "<div>\n",
       "<style scoped>\n",
       "    .dataframe tbody tr th:only-of-type {\n",
       "        vertical-align: middle;\n",
       "    }\n",
       "\n",
       "    .dataframe tbody tr th {\n",
       "        vertical-align: top;\n",
       "    }\n",
       "\n",
       "    .dataframe thead th {\n",
       "        text-align: right;\n",
       "    }\n",
       "</style>\n",
       "<table border=\"1\" class=\"dataframe\">\n",
       "  <thead>\n",
       "    <tr style=\"text-align: right;\">\n",
       "      <th></th>\n",
       "      <th>15870</th>\n",
       "    </tr>\n",
       "  </thead>\n",
       "  <tbody>\n",
       "    <tr>\n",
       "      <th>id</th>\n",
       "      <td>2402100895</td>\n",
       "    </tr>\n",
       "    <tr>\n",
       "      <th>date</th>\n",
       "      <td>20140625T000000</td>\n",
       "    </tr>\n",
       "    <tr>\n",
       "      <th>price</th>\n",
       "      <td>640000.0</td>\n",
       "    </tr>\n",
       "    <tr>\n",
       "      <th>bedrooms</th>\n",
       "      <td>33</td>\n",
       "    </tr>\n",
       "    <tr>\n",
       "      <th>bathrooms</th>\n",
       "      <td>1.75</td>\n",
       "    </tr>\n",
       "    <tr>\n",
       "      <th>sqft_living</th>\n",
       "      <td>1620</td>\n",
       "    </tr>\n",
       "    <tr>\n",
       "      <th>sqft_lot</th>\n",
       "      <td>6000</td>\n",
       "    </tr>\n",
       "    <tr>\n",
       "      <th>floors</th>\n",
       "      <td>1.0</td>\n",
       "    </tr>\n",
       "    <tr>\n",
       "      <th>waterfront</th>\n",
       "      <td>0</td>\n",
       "    </tr>\n",
       "    <tr>\n",
       "      <th>view</th>\n",
       "      <td>0</td>\n",
       "    </tr>\n",
       "    <tr>\n",
       "      <th>condition</th>\n",
       "      <td>5</td>\n",
       "    </tr>\n",
       "    <tr>\n",
       "      <th>grade</th>\n",
       "      <td>7</td>\n",
       "    </tr>\n",
       "    <tr>\n",
       "      <th>sqft_above</th>\n",
       "      <td>1040</td>\n",
       "    </tr>\n",
       "    <tr>\n",
       "      <th>sqft_basement</th>\n",
       "      <td>580</td>\n",
       "    </tr>\n",
       "    <tr>\n",
       "      <th>yr_built</th>\n",
       "      <td>1947</td>\n",
       "    </tr>\n",
       "    <tr>\n",
       "      <th>yr_renovated</th>\n",
       "      <td>0</td>\n",
       "    </tr>\n",
       "    <tr>\n",
       "      <th>zipcode</th>\n",
       "      <td>98103</td>\n",
       "    </tr>\n",
       "    <tr>\n",
       "      <th>lat</th>\n",
       "      <td>47.6878</td>\n",
       "    </tr>\n",
       "    <tr>\n",
       "      <th>long</th>\n",
       "      <td>-122.331</td>\n",
       "    </tr>\n",
       "    <tr>\n",
       "      <th>sqft_living15</th>\n",
       "      <td>1330</td>\n",
       "    </tr>\n",
       "    <tr>\n",
       "      <th>sqft_lot15</th>\n",
       "      <td>4700</td>\n",
       "    </tr>\n",
       "  </tbody>\n",
       "</table>\n",
       "</div>"
      ],
      "text/plain": [
       "                         15870\n",
       "id                  2402100895\n",
       "date           20140625T000000\n",
       "price                 640000.0\n",
       "bedrooms                    33\n",
       "bathrooms                 1.75\n",
       "sqft_living               1620\n",
       "sqft_lot                  6000\n",
       "floors                     1.0\n",
       "waterfront                   0\n",
       "view                         0\n",
       "condition                    5\n",
       "grade                        7\n",
       "sqft_above                1040\n",
       "sqft_basement              580\n",
       "yr_built                  1947\n",
       "yr_renovated                 0\n",
       "zipcode                  98103\n",
       "lat                    47.6878\n",
       "long                  -122.331\n",
       "sqft_living15             1330\n",
       "sqft_lot15                4700"
      ]
     },
     "execution_count": 83,
     "metadata": {},
     "output_type": "execute_result"
    }
   ],
   "source": [
    "data[data['bedrooms'] == data['bedrooms'].max()].T"
   ]
  },
  {
   "cell_type": "markdown",
   "metadata": {},
   "source": [
    "# 6. ¿Cuál es la suma total de cuartos en el conjunto de datos?\n"
   ]
  },
  {
   "cell_type": "code",
   "execution_count": 89,
   "metadata": {
    "ExecuteTime": {
     "end_time": "2022-04-09T01:22:23.997971Z",
     "start_time": "2022-04-09T01:22:23.991975Z"
    }
   },
   "outputs": [
    {
     "name": "stdout",
     "output_type": "stream",
     "text": [
      "En total, hay 72854 cuartos a la venta\n"
     ]
    }
   ],
   "source": [
    "print('En total, hay {} cuartos a la venta'.format(data['bedrooms'].sum()))"
   ]
  },
  {
   "cell_type": "markdown",
   "metadata": {},
   "source": [
    "# 7. ¿Cuántas casas tienen 2 baños?\n"
   ]
  },
  {
   "cell_type": "code",
   "execution_count": 100,
   "metadata": {
    "ExecuteTime": {
     "end_time": "2022-04-09T01:25:21.334897Z",
     "start_time": "2022-04-09T01:25:21.324898Z"
    }
   },
   "outputs": [
    {
     "name": "stdout",
     "output_type": "stream",
     "text": [
      "Hay 1930 con únicamente dos baños\n"
     ]
    }
   ],
   "source": [
    "print('Hay {} con únicamente dos baños'.format(data[data['bathrooms'] == 2].shape[0]))"
   ]
  },
  {
   "cell_type": "markdown",
   "metadata": {},
   "source": [
    "# 8. ¿Cuál es el precio promedio de todas las casas en el conjunto de datos?\n"
   ]
  },
  {
   "cell_type": "code",
   "execution_count": 117,
   "metadata": {
    "ExecuteTime": {
     "end_time": "2022-04-09T01:32:49.675447Z",
     "start_time": "2022-04-09T01:32:49.668447Z"
    }
   },
   "outputs": [
    {
     "name": "stdout",
     "output_type": "stream",
     "text": [
      "El precio promedio de todas las casas del conjunto de datos es de 540088.1417665294\n"
     ]
    }
   ],
   "source": [
    "print('El precio promedio de todas las casas del conjunto de datos es de {}'.format(data['price'].mean()))"
   ]
  },
  {
   "cell_type": "markdown",
   "metadata": {},
   "source": [
    "# 9. ¿Cuál es el precio medio de las viviendas de 2 baños?\n"
   ]
  },
  {
   "cell_type": "code",
   "execution_count": 123,
   "metadata": {
    "ExecuteTime": {
     "end_time": "2022-04-09T01:36:00.213109Z",
     "start_time": "2022-04-09T01:36:00.203111Z"
    }
   },
   "outputs": [
    {
     "data": {
      "text/plain": [
       "457889.7186528497"
      ]
     },
     "execution_count": 123,
     "metadata": {},
     "output_type": "execute_result"
    }
   ],
   "source": [
    "data[data['bathrooms'] ==2]['price'].mean()"
   ]
  },
  {
   "cell_type": "code",
   "execution_count": 139,
   "metadata": {
    "ExecuteTime": {
     "end_time": "2022-04-09T01:42:00.605073Z",
     "start_time": "2022-04-09T01:42:00.597075Z"
    }
   },
   "outputs": [
    {
     "name": "stdout",
     "output_type": "stream",
     "text": [
      "El precio medio de las viviendas de dos baños es de 457889.72\n"
     ]
    }
   ],
   "source": [
    "print('El precio medio de las viviendas de dos baños es de {}'.format(round(data.loc[data['bathrooms'] ==2,'price'].mean(),2)))"
   ]
  },
  {
   "cell_type": "markdown",
   "metadata": {},
   "source": [
    "# 10. ¿Cuál es el precio mínimo para viviendas de 3 dormitorios?\n"
   ]
  },
  {
   "cell_type": "code",
   "execution_count": 149,
   "metadata": {
    "ExecuteTime": {
     "end_time": "2022-04-09T01:49:51.022197Z",
     "start_time": "2022-04-09T01:49:50.987198Z"
    }
   },
   "outputs": [
    {
     "name": "stdout",
     "output_type": "stream",
     "text": [
      "82000.0 es el precio mínimo de una vivienda con tres habitaciones\n"
     ]
    }
   ],
   "source": [
    "print('{} es el precio mínimo de una vivienda con tres habitaciones'.format(round(data.loc[data['bedrooms']==3, 'price'].min(),2)))"
   ]
  },
  {
   "cell_type": "markdown",
   "metadata": {},
   "source": [
    "# 11. ¿Cuántas casas tienen más de 300 metros cuadrados en la sala?\n"
   ]
  },
  {
   "cell_type": "code",
   "execution_count": 161,
   "metadata": {
    "ExecuteTime": {
     "end_time": "2022-04-09T02:01:54.996231Z",
     "start_time": "2022-04-09T02:01:54.983246Z"
    }
   },
   "outputs": [
    {
     "name": "stdout",
     "output_type": "stream",
     "text": [
      "Hay 21612 casa con más de 300 metros cuadrados en la sala\n"
     ]
    }
   ],
   "source": [
    "print('Hay {} casa con más de 300 metros cuadrados en la sala'.format(data[data['sqft_living']>300].shape[0]))"
   ]
  },
  {
   "cell_type": "markdown",
   "metadata": {},
   "source": [
    "# 12. ¿Cuántas casas tienen más de 2 plantas?\n"
   ]
  },
  {
   "cell_type": "code",
   "execution_count": null,
   "metadata": {},
   "outputs": [],
   "source": []
  },
  {
   "cell_type": "markdown",
   "metadata": {},
   "source": [
    "# 13. ¿Cuántas casas tienen vista al mar?\n"
   ]
  },
  {
   "cell_type": "code",
   "execution_count": null,
   "metadata": {},
   "outputs": [],
   "source": []
  },
  {
   "cell_type": "markdown",
   "metadata": {},
   "source": [
    "# 14. De las casas con vistas al mar, ¿cuántas tienen 3 habitaciones?\n"
   ]
  },
  {
   "cell_type": "code",
   "execution_count": null,
   "metadata": {},
   "outputs": [],
   "source": []
  },
  {
   "cell_type": "markdown",
   "metadata": {},
   "source": [
    "# 15. De las casas con más de 300 metros cuadrados de salón, ¿cuántas tienen más de 2 baños?"
   ]
  },
  {
   "cell_type": "code",
   "execution_count": null,
   "metadata": {},
   "outputs": [],
   "source": []
  },
  {
   "cell_type": "markdown",
   "metadata": {},
   "source": [
    "# Nuevas preguntas del CEO "
   ]
  },
  {
   "cell_type": "markdown",
   "metadata": {
    "ExecuteTime": {
     "end_time": "2022-04-07T02:24:42.173893Z",
     "start_time": "2022-04-07T02:24:41.965698Z"
    }
   },
   "source": [
    "1. Cree una nueva columna llamada: \"house_age\"\n",
    "    - Si el valor de la columna \"fecha\" es mayor que 2014-01-01 => 'nueva_casa'\n",
    "    - Si el valor de la columna \"fecha\" es menor que 2014-01-01 => 'old_house'\n",
    "2. Cree una nueva columna llamada: \"dormitory_type\"\n",
    "    - Si el valor de la columna “dormitorios” es igual a 1 => ‘estudio’\n",
    "    - Si el valor de la columna “dormitorios” es igual a 2 => 'apartamento'\n",
    "    - Si el valor de la columna “dormitorios” es mayor a 2 => 'casa'\n",
    "3. Cree una nueva columna llamada: \"condition_type\"\n",
    "    - Si el valor de la columna \"condición\" es menor o igual a 2 => 'malo'\n",
    "    - Si el valor de la columna \"condición\" es igual a 3 o 4 => 'regular'\n",
    "    - Si el valor de la columna \"condición\" es igual a 5 => 'bueno'\n",
    "4. Cambie el TIPO en la columna \"condición\" a CADENA\n",
    "5. Elimine las columnas: \"sqft_living15\" y \"sqft_lot15\"\n",
    "6. Cambie el TIPO en la columna \"yr_build\" a FECHA\n",
    "7. Cambie el TIPO en la columna \"yr_renovated\" a FECHA\n",
    "8. ¿Cuál es la fecha más temprana de construcción de una propiedad?\n",
    "9. ¿Cuál es la fecha de renovación más temprana para una propiedad?\n",
    "10. ¿Cuántas propiedades tienen 2 pisos?\n",
    "11. ¿Cuántas propiedades se encuentran en condición igual a “regular”?\n",
    "12. ¿Cuántas propiedades están en una condición igual a “mala” y tienen “vistas al agua”?\n",
    "13. ¿Cuántas propiedades tienen una condición igual a “buena” y son “nueva_casa”?\n",
    "14. ¿Cuál es el valor de la propiedad de “estudio” más cara?\n",
    "15. ¿Cuántas propiedades de “apartamentos” se renovaron en 2015?\n",
    "16. ¿Cuál es la mayor cantidad de cuartos que tiene una propiedad tipo “casa”?\n",
    "17. ¿Cuántas propiedades de “casa_nueva” se renovaron en 2014?\n",
    "18. Seleccione las columnas: “id”, “fecha”, “precio”, “pisos”, “código postal” por método:\n",
    "    - Directo por nombre de columna.\n",
    "    - Por los Índices.\n",
    "    - Por los índices de las filas y el nombre de las columnas\n",
    "    - Índices booleanos \n",
    "19. Guarde un archivo .csv con solo las columnas del elemento 10 al 17."
   ]
  },
  {
   "cell_type": "markdown",
   "metadata": {
    "ExecuteTime": {
     "end_time": "2022-04-07T02:26:37.610157Z",
     "start_time": "2022-04-07T02:26:37.593150Z"
    }
   },
   "source": [
    "# 1. Cree una nueva columna llamada: \"house_age\"\n",
    "    - Si el valor de la columna \"fecha\" es mayor que 2014-01-01 => 'nueva_casa'\n",
    "    - Si el valor de la columna \"fecha\" es menor que 2014-01-01 => 'old_house'\n"
   ]
  },
  {
   "cell_type": "code",
   "execution_count": null,
   "metadata": {},
   "outputs": [],
   "source": []
  },
  {
   "cell_type": "markdown",
   "metadata": {
    "ExecuteTime": {
     "end_time": "2022-04-07T02:26:38.077155Z",
     "start_time": "2022-04-07T02:26:38.049151Z"
    }
   },
   "source": [
    "# 2. Cree una nueva columna llamada: \"dormitory_type\"\n",
    "    - Si el valor de la columna “dormitorios” es igual a 1 => ‘estudio’\n",
    "    - Si el valor de la columna “dormitorios” es igual a 2 => 'apartamento'\n",
    "    - Si el valor de la columna “dormitorios” es mayor a 2 => 'casa'\n"
   ]
  },
  {
   "cell_type": "code",
   "execution_count": null,
   "metadata": {},
   "outputs": [],
   "source": []
  },
  {
   "cell_type": "markdown",
   "metadata": {
    "ExecuteTime": {
     "end_time": "2022-04-07T02:26:38.098151Z",
     "start_time": "2022-04-07T02:26:38.098151Z"
    }
   },
   "source": [
    "# 3. Cree una nueva columna llamada: \"condition_type\"\n",
    "    - Si el valor de la columna \"condición\" es menor o igual a 2 => 'malo'\n",
    "    - Si el valor de la columna \"condición\" es igual a 3 o 4 => 'regular'\n",
    "    - Si el valor de la columna \"condición\" es igual a 5 => 'bueno'\n"
   ]
  },
  {
   "cell_type": "code",
   "execution_count": null,
   "metadata": {},
   "outputs": [],
   "source": []
  },
  {
   "cell_type": "markdown",
   "metadata": {
    "ExecuteTime": {
     "end_time": "2022-04-07T02:26:38.118167Z",
     "start_time": "2022-04-07T02:26:38.118167Z"
    }
   },
   "source": [
    "# 4. Cambie el TIPO en la columna \"condición\" a CADENA\n"
   ]
  },
  {
   "cell_type": "code",
   "execution_count": null,
   "metadata": {},
   "outputs": [],
   "source": []
  },
  {
   "cell_type": "markdown",
   "metadata": {
    "ExecuteTime": {
     "end_time": "2022-04-07T02:26:38.455158Z",
     "start_time": "2022-04-07T02:26:38.442152Z"
    }
   },
   "source": [
    "# 5. Elimine las columnas: \"sqft_living15\" y \"sqft_lot15\"\n"
   ]
  },
  {
   "cell_type": "code",
   "execution_count": null,
   "metadata": {},
   "outputs": [],
   "source": []
  },
  {
   "cell_type": "markdown",
   "metadata": {
    "ExecuteTime": {
     "end_time": "2022-04-07T02:26:38.755153Z",
     "start_time": "2022-04-07T02:26:38.748151Z"
    }
   },
   "source": [
    "# 6. Cambie el TIPO en la columna \"yr_build\" a FECHA\n"
   ]
  },
  {
   "cell_type": "code",
   "execution_count": null,
   "metadata": {},
   "outputs": [],
   "source": []
  },
  {
   "cell_type": "markdown",
   "metadata": {
    "ExecuteTime": {
     "end_time": "2022-04-07T02:26:39.033157Z",
     "start_time": "2022-04-07T02:26:39.019150Z"
    }
   },
   "source": [
    "# 7. Cambie el TIPO en la columna \"yr_renovated\" a FECHA\n"
   ]
  },
  {
   "cell_type": "code",
   "execution_count": null,
   "metadata": {},
   "outputs": [],
   "source": []
  },
  {
   "cell_type": "markdown",
   "metadata": {
    "ExecuteTime": {
     "end_time": "2022-04-07T02:26:39.300173Z",
     "start_time": "2022-04-07T02:26:39.287152Z"
    }
   },
   "source": [
    "# 8. ¿Cuál es la fecha más temprana de construcción de una propiedad?\n"
   ]
  },
  {
   "cell_type": "code",
   "execution_count": null,
   "metadata": {},
   "outputs": [],
   "source": []
  },
  {
   "cell_type": "markdown",
   "metadata": {},
   "source": [
    "# 9. ¿Cuál es la fecha de renovación más temprana para una propiedad?\n"
   ]
  },
  {
   "cell_type": "code",
   "execution_count": null,
   "metadata": {},
   "outputs": [],
   "source": []
  },
  {
   "cell_type": "markdown",
   "metadata": {},
   "source": [
    "# 10. ¿Cuántas propiedades tienen 2 pisos?\n"
   ]
  },
  {
   "cell_type": "code",
   "execution_count": null,
   "metadata": {},
   "outputs": [],
   "source": []
  },
  {
   "cell_type": "markdown",
   "metadata": {},
   "source": [
    "# 11. ¿Cuántas propiedades se encuentran en condición igual a “regular”?\n"
   ]
  },
  {
   "cell_type": "code",
   "execution_count": null,
   "metadata": {},
   "outputs": [],
   "source": []
  },
  {
   "cell_type": "markdown",
   "metadata": {},
   "source": [
    "# 12. ¿Cuántas propiedades están en una condición igual a “mala” y tienen “vistas al agua”?\n"
   ]
  },
  {
   "cell_type": "code",
   "execution_count": null,
   "metadata": {},
   "outputs": [],
   "source": []
  },
  {
   "cell_type": "markdown",
   "metadata": {},
   "source": [
    "# 13. ¿Cuántas propiedades tienen una condición igual a “buena” y son “nueva_casa”?\n"
   ]
  },
  {
   "cell_type": "code",
   "execution_count": null,
   "metadata": {},
   "outputs": [],
   "source": []
  },
  {
   "cell_type": "markdown",
   "metadata": {},
   "source": [
    "# 14. ¿Cuál es el valor de la propiedad de “estudio” más cara?\n"
   ]
  },
  {
   "cell_type": "code",
   "execution_count": null,
   "metadata": {},
   "outputs": [],
   "source": []
  },
  {
   "cell_type": "markdown",
   "metadata": {},
   "source": [
    "# 15. ¿Cuántas propiedades de “apartamentos” se renovaron en 2015?\n"
   ]
  },
  {
   "cell_type": "code",
   "execution_count": null,
   "metadata": {},
   "outputs": [],
   "source": []
  },
  {
   "cell_type": "markdown",
   "metadata": {},
   "source": [
    "# 16. ¿Cuál es la mayor cantidad de cuartos que tiene una propiedad tipo “casa”?\n"
   ]
  },
  {
   "cell_type": "code",
   "execution_count": null,
   "metadata": {},
   "outputs": [],
   "source": []
  },
  {
   "cell_type": "markdown",
   "metadata": {},
   "source": [
    "# 17. ¿Cuántas propiedades de “casa_nueva” se renovaron en 2014?\n"
   ]
  },
  {
   "cell_type": "code",
   "execution_count": null,
   "metadata": {},
   "outputs": [],
   "source": []
  },
  {
   "cell_type": "markdown",
   "metadata": {},
   "source": [
    "# 18. Seleccione las columnas: “id”, “fecha”, “precio”, “pisos”, “código postal” por método:\n",
    "    - Directo por nombre de columna.\n",
    "    - Por los Índices.\n",
    "    - Por los índices de las filas y el nombre de las columnas\n",
    "    - Índices booleanos \n"
   ]
  },
  {
   "cell_type": "code",
   "execution_count": null,
   "metadata": {},
   "outputs": [],
   "source": []
  },
  {
   "cell_type": "markdown",
   "metadata": {},
   "source": [
    "# 19. Guarde un archivo .csv con solo las columnas del elemento 10 al 17."
   ]
  },
  {
   "cell_type": "markdown",
   "metadata": {
    "ExecuteTime": {
     "end_time": "2022-04-08T00:44:29.358461Z",
     "start_time": "2022-04-08T00:44:29.294280Z"
    }
   },
   "source": [
    "# Algunas preguntas más del CEO "
   ]
  },
  {
   "cell_type": "markdown",
   "metadata": {
    "ExecuteTime": {
     "end_time": "2022-04-08T00:44:35.625629Z",
     "start_time": "2022-04-08T00:44:35.573624Z"
    }
   },
   "source": [
    "1. ¿Cuál es el número de inmuebles por año de construcción?\n",
    "2. ¿Cuál es el menor número de cuartos por año de construcción de las propiedades?\n",
    "3. ¿Cuál es el precio de compra más alto por cada número de habitaciones?\n",
    "4. ¿Cuál es la suma de todos los precios de compra por cada número de habitaciones?\n",
    "5. ¿Cuál es la suma de todos los precios de compra por el número de dormitorios y baños?\n",
    "6. ¿Cuál es el tamaño promedio de las habitaciones de los inmuebles por año de construcción?\n",
    "7. ¿Cuál es el tamaño medio de las habitaciones de los inmuebles por año de construcción?\n",
    "8. ¿Cuál es la desviación estándar del tamaño de las habitaciones de las propiedades por año de construcción?\n",
    "9. ¿Cómo es el crecimiento promedio de los precios de compra de inmuebles, por día, mes y año?\n",
    "10. Me gustaría mirar en el mapa y poder identificar las casas con el precio más alto"
   ]
  },
  {
   "cell_type": "markdown",
   "metadata": {},
   "source": [
    "# 1. ¿Cuál es el número de inmuebles por año de construcción?"
   ]
  },
  {
   "cell_type": "code",
   "execution_count": null,
   "metadata": {},
   "outputs": [],
   "source": []
  },
  {
   "cell_type": "markdown",
   "metadata": {},
   "source": [
    "# 2. ¿Cuál es el menor número de cuartos por año de construcción de las propiedades?"
   ]
  },
  {
   "cell_type": "code",
   "execution_count": null,
   "metadata": {},
   "outputs": [],
   "source": []
  },
  {
   "cell_type": "markdown",
   "metadata": {},
   "source": [
    "# 3. ¿Cuál es el precio de compra más alto por cada número de habitaciones?"
   ]
  },
  {
   "cell_type": "code",
   "execution_count": null,
   "metadata": {},
   "outputs": [],
   "source": []
  },
  {
   "cell_type": "markdown",
   "metadata": {},
   "source": [
    "# 4. ¿Cuál es la suma de todos los precios de compra por cada número de habitaciones?"
   ]
  },
  {
   "cell_type": "code",
   "execution_count": null,
   "metadata": {},
   "outputs": [],
   "source": []
  },
  {
   "cell_type": "markdown",
   "metadata": {},
   "source": [
    "# 5. ¿Cuál es la suma de todos los precios de compra por el número de dormitorios y baños?"
   ]
  },
  {
   "cell_type": "code",
   "execution_count": null,
   "metadata": {},
   "outputs": [],
   "source": []
  },
  {
   "cell_type": "markdown",
   "metadata": {},
   "source": [
    "# 6. ¿Cuál es el tamaño promedio de las habitaciones de los inmuebles por año de construcción?"
   ]
  },
  {
   "cell_type": "code",
   "execution_count": null,
   "metadata": {},
   "outputs": [],
   "source": []
  },
  {
   "cell_type": "markdown",
   "metadata": {},
   "source": [
    "# 7. ¿Cuál es el tamaño medio de las habitaciones de los inmuebles por año de construcción?"
   ]
  },
  {
   "cell_type": "code",
   "execution_count": null,
   "metadata": {},
   "outputs": [],
   "source": []
  },
  {
   "cell_type": "markdown",
   "metadata": {},
   "source": [
    "# 8. ¿Cuál es la desviación estándar del tamaño de las habitaciones de las propiedades por año de construcción?"
   ]
  },
  {
   "cell_type": "code",
   "execution_count": null,
   "metadata": {},
   "outputs": [],
   "source": []
  },
  {
   "cell_type": "markdown",
   "metadata": {},
   "source": [
    "# 9. ¿Cómo es el crecimiento promedio de los precios de compra de inmuebles, por día, mes y año?"
   ]
  },
  {
   "cell_type": "code",
   "execution_count": null,
   "metadata": {},
   "outputs": [],
   "source": []
  },
  {
   "cell_type": "markdown",
   "metadata": {},
   "source": [
    "# 10. Me gustaría mirar en el mapa y poder identificar las casas con el precio más alto"
   ]
  },
  {
   "cell_type": "markdown",
   "metadata": {},
   "source": []
  },
  {
   "cell_type": "markdown",
   "metadata": {
    "ExecuteTime": {
     "end_time": "2022-04-07T23:43:20.266814Z",
     "start_time": "2022-04-07T23:43:20.186646Z"
    }
   },
   "source": [
    "# Y más preguntas del CEO "
   ]
  },
  {
   "cell_type": "markdown",
   "metadata": {
    "ExecuteTime": {
     "end_time": "2022-04-07T23:47:54.732741Z",
     "start_time": "2022-04-07T23:47:54.711739Z"
    }
   },
   "source": [
    "1. Cree una nueva columna llamada: \"dormitory_type\"\n",
    "    - Si el valor de la columna “dormitorios” es menor a 1 => ‘estudio’\n",
    "    - Si el valor de la columna “dormitorios” es igual a 2 => 'apartamento'\n",
    "    - Si el valor de la columna “dormitorios” es mayor a 2 => 'casa'\n",
    "2. Haga un gráfico de barras que represente la suma de precios por el número de habitaciones.\n",
    "3. Haga un gráfico de líneas que represente el promedio de precios para el año de construcción de las propiedades.\n",
    "4. Haga un gráfico de barras que represente el promedio de precios por tipo de dormitorios.\n",
    "5. Haga un gráfico de líneas que muestre la evolución del promedio de precios para el año de la reforma de la\n",
    "inmuebles del año 1930.\n",
    "6. Haga una tabla que muestre los precios promedio por año de construcción y tipo de dormitorio de la\n",
    "propiedades\n",
    "7. Crea un Tablero con los gráficos de las preguntas 02, 03, 04 ( Tablero: 1 Fila y 2 Columnas )\n",
    "8. Cree un Tablero con los gráficos de las preguntas 02, 04 ( Tablero: 2 columnas )\n",
    "9. Crea un Dashboard con las gráficas de las preguntas 03, 05 ( Dashboard: 2 Lines )\n",
    "10. Haga un gráfico con el tamaño de los puntos igual al tamaño de la sala de estar\n",
    "11. Adicione la siguiente información a cada inmueble:\n",
    "    - Nombre de la calle\n",
    "\t- Número de la casa\n",
    "    - Nombre del barrio\n",
    "    - Nombre de la ciudad\n",
    "\t- Nombre del estado"
   ]
  },
  {
   "cell_type": "markdown",
   "metadata": {
    "ExecuteTime": {
     "end_time": "2022-04-07T23:51:20.609429Z",
     "start_time": "2022-04-07T23:51:20.581427Z"
    }
   },
   "source": [
    "# 1. Cree una nueva columna llamada: \"dormitory_type\"\n",
    "    - Si el valor de la columna “dormitorios” es menor a 1 => ‘estudio’\n",
    "    - Si el valor de la columna “dormitorios” es igual a 2 => 'apartamento'\n",
    "    - Si el valor de la columna “dormitorios” es mayor a 2 => 'casa'\n"
   ]
  },
  {
   "cell_type": "code",
   "execution_count": null,
   "metadata": {},
   "outputs": [],
   "source": []
  },
  {
   "cell_type": "markdown",
   "metadata": {
    "ExecuteTime": {
     "end_time": "2022-04-07T23:51:20.953427Z",
     "start_time": "2022-04-07T23:51:20.941426Z"
    }
   },
   "source": [
    "# 2. Haga un gráfico de barras que represente la suma de precios por el número de habitaciones."
   ]
  },
  {
   "cell_type": "code",
   "execution_count": null,
   "metadata": {},
   "outputs": [],
   "source": []
  },
  {
   "cell_type": "markdown",
   "metadata": {
    "ExecuteTime": {
     "end_time": "2022-04-07T23:51:21.329430Z",
     "start_time": "2022-04-07T23:51:21.319430Z"
    }
   },
   "source": [
    "# 3. Haga un gráfico de líneas que represente el promedio de precios para el año de construcción de las propiedades."
   ]
  },
  {
   "cell_type": "code",
   "execution_count": null,
   "metadata": {},
   "outputs": [],
   "source": []
  },
  {
   "cell_type": "markdown",
   "metadata": {
    "ExecuteTime": {
     "end_time": "2022-04-07T23:51:21.605434Z",
     "start_time": "2022-04-07T23:51:21.592420Z"
    }
   },
   "source": [
    "# 4. Haga un gráfico de barras que represente el promedio de precios por tipo de dormitorios."
   ]
  },
  {
   "cell_type": "code",
   "execution_count": null,
   "metadata": {},
   "outputs": [],
   "source": []
  },
  {
   "cell_type": "markdown",
   "metadata": {},
   "source": [
    "# 5. Haga un gráfico de líneas que muestre la evolución del promedio de precios para el año de la reforma de la inmuebles del año 1930."
   ]
  },
  {
   "cell_type": "code",
   "execution_count": null,
   "metadata": {},
   "outputs": [],
   "source": []
  },
  {
   "cell_type": "markdown",
   "metadata": {},
   "source": [
    "# 6. Haga una tabla que muestre los precios promedio por año de construcción y tipo de dormitorio de la propiedades"
   ]
  },
  {
   "cell_type": "code",
   "execution_count": null,
   "metadata": {},
   "outputs": [],
   "source": []
  },
  {
   "cell_type": "markdown",
   "metadata": {},
   "source": [
    "# 7. Crea un Tablero con los gráficos de las preguntas 02, 03, 04 ( Tablero: 1 Fila y 2 Columnas )"
   ]
  },
  {
   "cell_type": "code",
   "execution_count": null,
   "metadata": {},
   "outputs": [],
   "source": []
  },
  {
   "cell_type": "markdown",
   "metadata": {},
   "source": [
    "# 8. Cree un Tablero con los gráficos de las preguntas 02, 04 ( Tablero: 2 columnas )"
   ]
  },
  {
   "cell_type": "code",
   "execution_count": null,
   "metadata": {},
   "outputs": [],
   "source": []
  },
  {
   "cell_type": "markdown",
   "metadata": {},
   "source": [
    "# 9. Crea un Dashboard con las gráficas de las preguntas 03, 05 ( Dashboard: 2 Lines )"
   ]
  },
  {
   "cell_type": "code",
   "execution_count": null,
   "metadata": {},
   "outputs": [],
   "source": []
  },
  {
   "cell_type": "markdown",
   "metadata": {},
   "source": [
    "# 10. Haga un gráfico con el tamaño de los puntos igual al tamaño de la sala de estar"
   ]
  },
  {
   "cell_type": "code",
   "execution_count": null,
   "metadata": {},
   "outputs": [],
   "source": []
  },
  {
   "cell_type": "markdown",
   "metadata": {},
   "source": [
    "# Más preguntas del CEO "
   ]
  },
  {
   "cell_type": "markdown",
   "metadata": {
    "ExecuteTime": {
     "end_time": "2022-04-08T00:55:46.216331Z",
     "start_time": "2022-04-08T00:55:46.185329Z"
    }
   },
   "source": [
    "1. ¿Cuántas propiedades por nivel?\n",
    "    - Nivel 0: Precio entre 0,00 y 321.950\n",
    "    - Nivel 1: Precio entre 321.950 y 450.000\n",
    "    - Nivel 2: Precio entre 450.000 y  645.000\n",
    "    - Nivel 3: Precio superior 645.000\n",
    "\n",
    "2. Adicione la siguiente información a cada inmueble:\n",
    "    - Nombre de la calle\n",
    "\t- Número de la casa\n",
    "    - Nombre del barrio\n",
    "    - Nombre de la ciudad\n",
    "\t- Nombre del estado\n",
    "\n",
    "3. Agregue el nivel de propiedades en el mapa como un color\n",
    "4. Agregue el precio de la propiedad como tamaño de punto en el mapa\n",
    "5. Agregue opciones de filtro para que yo haga mi propio análisis:\n",
    "    - Quiero elegir ver propiedades con vista al agua o no.\n",
    "    - Quiero filtrar propiedades hasta un cierto valor de precio."
   ]
  },
  {
   "cell_type": "markdown",
   "metadata": {
    "ExecuteTime": {
     "end_time": "2022-04-08T00:55:12.013872Z",
     "start_time": "2022-04-08T00:55:11.985874Z"
    }
   },
   "source": [
    "# 1. ¿Cuántas propiedades por nivel?\n",
    "    - Nivel 0: Precio entre 0,00 y 321.950\n",
    "    - Nivel 1: Precio entre 321.950 y 450.000\n",
    "    - Nivel 2: Precio entre 450.000 y  645.000\n",
    "    - Nivel 3: Precio superior 645.000"
   ]
  },
  {
   "cell_type": "markdown",
   "metadata": {},
   "source": [
    "# 2. Adicione la siguiente información a cada inmueble:\n",
    "    - Nombre de la calle\n",
    "\t- Número de la casa\n",
    "    - Nombre del barrio\n",
    "    - Nombre de la ciudad\n",
    "\t- Nombre del estado"
   ]
  },
  {
   "cell_type": "markdown",
   "metadata": {},
   "source": [
    "# 3. Agregue el nivel de propiedades en el mapa como un color"
   ]
  },
  {
   "cell_type": "markdown",
   "metadata": {},
   "source": [
    "# 4. Agregue el precio de la propiedad como tamaño de punto en el mapa\n"
   ]
  },
  {
   "cell_type": "markdown",
   "metadata": {},
   "source": [
    "# 5. Agregue opciones de filtro para que yo haga mi propio análisis:\n",
    "    - Quiero elegir ver propiedades con vista al agua o no.\n",
    "    - Quiero filtrar propiedades hasta un cierto valor de precio.\n"
   ]
  },
  {
   "cell_type": "code",
   "execution_count": null,
   "metadata": {},
   "outputs": [],
   "source": []
  }
 ],
 "metadata": {
  "kernelspec": {
   "display_name": "Python 3 (ipykernel)",
   "language": "python",
   "name": "python3"
  },
  "language_info": {
   "codemirror_mode": {
    "name": "ipython",
    "version": 3
   },
   "file_extension": ".py",
   "mimetype": "text/x-python",
   "name": "python",
   "nbconvert_exporter": "python",
   "pygments_lexer": "ipython3",
   "version": "3.9.7"
  },
  "toc": {
   "base_numbering": 1,
   "nav_menu": {},
   "number_sections": false,
   "sideBar": true,
   "skip_h1_title": false,
   "title_cell": "Table of Contents",
   "title_sidebar": "Contents",
   "toc_cell": false,
   "toc_position": {
    "height": "calc(100% - 180px)",
    "left": "10px",
    "top": "150px",
    "width": "165px"
   },
   "toc_section_display": true,
   "toc_window_display": true
  },
  "varInspector": {
   "cols": {
    "lenName": 16,
    "lenType": 16,
    "lenVar": 40
   },
   "kernels_config": {
    "python": {
     "delete_cmd_postfix": "",
     "delete_cmd_prefix": "del ",
     "library": "var_list.py",
     "varRefreshCmd": "print(var_dic_list())"
    },
    "r": {
     "delete_cmd_postfix": ") ",
     "delete_cmd_prefix": "rm(",
     "library": "var_list.r",
     "varRefreshCmd": "cat(var_dic_list()) "
    }
   },
   "types_to_exclude": [
    "module",
    "function",
    "builtin_function_or_method",
    "instance",
    "_Feature"
   ],
   "window_display": false
  }
 },
 "nbformat": 4,
 "nbformat_minor": 4
}
